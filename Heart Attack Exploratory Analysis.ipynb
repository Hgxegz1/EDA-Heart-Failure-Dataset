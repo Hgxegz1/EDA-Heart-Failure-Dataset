{
 "cells": [
  {
   "cell_type": "code",
   "execution_count": 2,
   "id": "44eb70f7",
   "metadata": {},
   "outputs": [
    {
     "data": {
      "text/plain": [
       "'heart attack dataset details\\n1.)age=age in years (Num)\\n2.)sex=sex(0 = female, 1 = male) (Cat)\\n3.)cp=chestpain type(1=typical angina,2=atypical angina,3=non-anginal pain,0=asymptomatic)(Cat)\\n4.)trtbps=resting blood pressure(in mm Hg on admission to the hospiatal)(Num)\\n5.)chol=esrum cholestoral in mg/dl (Num)\\n6.)fbs=fasting blood sugar > 120 mg/dl (0=false, 1=true)(Cat)\\n7.)restecg=resting electrocardiographic results(0=normal,1=hypertrophy,2=having ST-T abnorm)(Cat)\\n8.)thalachh=maximum heart rate achieved (Num)\\n9.)exng=exercise induced angina(0 = no, 1 = yes)(Cat)\\n10.)oldpeak=ST depression induced by exercise relative to rest (Num)\\n11.)slp=the slope of the peak exercise ST segment(0=downsloping, 1=flat, 2=upsloping)(Cat)\\n12.)caa=number of major vessels (0-4) colored by flourosopy (Num)\\n13.)thall=thallium stress test(1=fixed defect, 2=reversable defect, 3=normal)(Cat)\\n14.)output= 0=less chance of heart attack, 1=more chance of heart attack (Cat)'"
      ]
     },
     "execution_count": 2,
     "metadata": {},
     "output_type": "execute_result"
    }
   ],
   "source": [
    "'''This is a prediction analysis on if a patient will have a heart attack or not\n",
    "given the dataset'''\n",
    "\n",
    "'''heart attack dataset details\n",
    "1.)age=age in years (Num)\n",
    "2.)sex=sex(0 = female, 1 = male) (Cat)\n",
    "3.)cp=chestpain type(1=typical angina,2=atypical angina,3=non-anginal pain,0=asymptomatic)(Cat)\n",
    "4.)trtbps=resting blood pressure(in mm Hg on admission to the hospiatal)(Num)\n",
    "5.)chol=esrum cholestoral in mg/dl (Num)\n",
    "6.)fbs=fasting blood sugar > 120 mg/dl (0=false, 1=true)(Cat)\n",
    "7.)restecg=resting electrocardiographic results(0=normal,1=hypertrophy,2=having ST-T abnorm)(Cat)\n",
    "8.)thalachh=maximum heart rate achieved (Num)\n",
    "9.)exng=exercise induced angina(0 = no, 1 = yes)(Cat)\n",
    "10.)oldpeak=ST depression induced by exercise relative to rest (Num)\n",
    "11.)slp=the slope of the peak exercise ST segment(0=downsloping, 1=flat, 2=upsloping)(Cat)\n",
    "12.)caa=number of major vessels (0-4) colored by flourosopy (Num)\n",
    "13.)thall=thallium stress test(1=fixed defect, 2=reversable defect, 3=normal)(Cat)\n",
    "14.)output= 0=less chance of heart attack, 1=more chance of heart attack (Cat)'''"
   ]
  },
  {
   "cell_type": "code",
   "execution_count": 3,
   "id": "0d9bb2bd",
   "metadata": {},
   "outputs": [],
   "source": [
    "'''import the necessary libraries'''\n",
    "\n",
    "import pandas as pd\n",
    "import numpy as np\n",
    "import seaborn as sns\n",
    "import matplotlib.pyplot as plt\n",
    "from sklearn.impute import KNNImputer\n",
    "from sklearn.ensemble import RandomForestClassifier\n",
    "from sklearn.model_selection import train_test_split\n",
    "from sklearn.model_selection import cross_val_score\n",
    "from sklearn.preprocessing import StandardScaler\n",
    "from sklearn.model_selection import cross_val_score\n",
    "from sklearn.model_selection import RandomizedSearchCV\n",
    "from sklearn.model_selection import RepeatedKFold\n",
    "from sklearn.linear_model import LogisticRegression\n",
    "from scipy.stats import uniform\n",
    "from scipy.stats import loguniform\n",
    "from sklearn.svm import SVC\n",
    "from sklearn.ensemble import RandomForestClassifier\n",
    "from sklearn.metrics import f1_score, recall_score, precision_score, accuracy_score, roc_auc_score, roc_curve, confusion_matrix\n",
    "from catboost import CatBoostClassifier\n",
    "\n"
   ]
  },
  {
   "cell_type": "code",
   "execution_count": 4,
   "id": "d4697ea1",
   "metadata": {},
   "outputs": [
    {
     "data": {
      "text/html": [
       "<div>\n",
       "<style scoped>\n",
       "    .dataframe tbody tr th:only-of-type {\n",
       "        vertical-align: middle;\n",
       "    }\n",
       "\n",
       "    .dataframe tbody tr th {\n",
       "        vertical-align: top;\n",
       "    }\n",
       "\n",
       "    .dataframe thead th {\n",
       "        text-align: right;\n",
       "    }\n",
       "</style>\n",
       "<table border=\"1\" class=\"dataframe\">\n",
       "  <thead>\n",
       "    <tr style=\"text-align: right;\">\n",
       "      <th></th>\n",
       "      <th>age</th>\n",
       "      <th>sex</th>\n",
       "      <th>cp</th>\n",
       "      <th>trtbps</th>\n",
       "      <th>chol</th>\n",
       "      <th>fbs</th>\n",
       "      <th>restecg</th>\n",
       "      <th>thalachh</th>\n",
       "      <th>exng</th>\n",
       "      <th>oldpeak</th>\n",
       "      <th>slp</th>\n",
       "      <th>caa</th>\n",
       "      <th>thall</th>\n",
       "      <th>output</th>\n",
       "    </tr>\n",
       "  </thead>\n",
       "  <tbody>\n",
       "    <tr>\n",
       "      <th>0</th>\n",
       "      <td>63</td>\n",
       "      <td>1</td>\n",
       "      <td>3</td>\n",
       "      <td>145</td>\n",
       "      <td>233</td>\n",
       "      <td>1</td>\n",
       "      <td>0</td>\n",
       "      <td>150</td>\n",
       "      <td>0</td>\n",
       "      <td>2.3</td>\n",
       "      <td>0</td>\n",
       "      <td>0</td>\n",
       "      <td>1</td>\n",
       "      <td>1</td>\n",
       "    </tr>\n",
       "    <tr>\n",
       "      <th>1</th>\n",
       "      <td>37</td>\n",
       "      <td>1</td>\n",
       "      <td>2</td>\n",
       "      <td>130</td>\n",
       "      <td>250</td>\n",
       "      <td>0</td>\n",
       "      <td>1</td>\n",
       "      <td>187</td>\n",
       "      <td>0</td>\n",
       "      <td>3.5</td>\n",
       "      <td>0</td>\n",
       "      <td>0</td>\n",
       "      <td>2</td>\n",
       "      <td>1</td>\n",
       "    </tr>\n",
       "    <tr>\n",
       "      <th>2</th>\n",
       "      <td>41</td>\n",
       "      <td>0</td>\n",
       "      <td>1</td>\n",
       "      <td>130</td>\n",
       "      <td>204</td>\n",
       "      <td>0</td>\n",
       "      <td>0</td>\n",
       "      <td>172</td>\n",
       "      <td>0</td>\n",
       "      <td>1.4</td>\n",
       "      <td>2</td>\n",
       "      <td>0</td>\n",
       "      <td>2</td>\n",
       "      <td>1</td>\n",
       "    </tr>\n",
       "    <tr>\n",
       "      <th>3</th>\n",
       "      <td>56</td>\n",
       "      <td>1</td>\n",
       "      <td>1</td>\n",
       "      <td>120</td>\n",
       "      <td>236</td>\n",
       "      <td>0</td>\n",
       "      <td>1</td>\n",
       "      <td>178</td>\n",
       "      <td>0</td>\n",
       "      <td>0.8</td>\n",
       "      <td>2</td>\n",
       "      <td>0</td>\n",
       "      <td>2</td>\n",
       "      <td>1</td>\n",
       "    </tr>\n",
       "    <tr>\n",
       "      <th>4</th>\n",
       "      <td>57</td>\n",
       "      <td>0</td>\n",
       "      <td>0</td>\n",
       "      <td>120</td>\n",
       "      <td>354</td>\n",
       "      <td>0</td>\n",
       "      <td>1</td>\n",
       "      <td>163</td>\n",
       "      <td>1</td>\n",
       "      <td>0.6</td>\n",
       "      <td>2</td>\n",
       "      <td>0</td>\n",
       "      <td>2</td>\n",
       "      <td>1</td>\n",
       "    </tr>\n",
       "  </tbody>\n",
       "</table>\n",
       "</div>"
      ],
      "text/plain": [
       "   age  sex  cp  trtbps  chol  fbs  restecg  thalachh  exng  oldpeak  slp  \\\n",
       "0   63    1   3     145   233    1        0       150     0      2.3    0   \n",
       "1   37    1   2     130   250    0        1       187     0      3.5    0   \n",
       "2   41    0   1     130   204    0        0       172     0      1.4    2   \n",
       "3   56    1   1     120   236    0        1       178     0      0.8    2   \n",
       "4   57    0   0     120   354    0        1       163     1      0.6    2   \n",
       "\n",
       "   caa  thall  output  \n",
       "0    0      1       1  \n",
       "1    0      2       1  \n",
       "2    0      2       1  \n",
       "3    0      2       1  \n",
       "4    0      2       1  "
      ]
     },
     "execution_count": 4,
     "metadata": {},
     "output_type": "execute_result"
    }
   ],
   "source": [
    "#import the heart csv dataset -> analyze the top 5 rows\n",
    "df = pd.read_csv(\"heart.csv\")\n",
    "df.head()\n"
   ]
  },
  {
   "cell_type": "code",
   "execution_count": 5,
   "id": "fdd59e4d",
   "metadata": {},
   "outputs": [
    {
     "name": "stdout",
     "output_type": "stream",
     "text": [
      "<class 'pandas.core.frame.DataFrame'>\n",
      "RangeIndex: 303 entries, 0 to 302\n",
      "Data columns (total 14 columns):\n",
      " #   Column    Non-Null Count  Dtype  \n",
      "---  ------    --------------  -----  \n",
      " 0   age       303 non-null    int64  \n",
      " 1   sex       303 non-null    int64  \n",
      " 2   cp        303 non-null    int64  \n",
      " 3   trtbps    303 non-null    int64  \n",
      " 4   chol      303 non-null    int64  \n",
      " 5   fbs       303 non-null    int64  \n",
      " 6   restecg   303 non-null    int64  \n",
      " 7   thalachh  303 non-null    int64  \n",
      " 8   exng      303 non-null    int64  \n",
      " 9   oldpeak   303 non-null    float64\n",
      " 10  slp       303 non-null    int64  \n",
      " 11  caa       303 non-null    int64  \n",
      " 12  thall     303 non-null    int64  \n",
      " 13  output    303 non-null    int64  \n",
      "dtypes: float64(1), int64(13)\n",
      "memory usage: 33.3 KB\n"
     ]
    }
   ],
   "source": [
    "#check some info about the dataset\n",
    "df.info()\n",
    "\n",
    "#we can see there are 303 patients(rows) and the types of each column\n",
    "#13 features in the dataset"
   ]
  },
  {
   "cell_type": "markdown",
   "id": "683b77d5",
   "metadata": {},
   "source": [
    "# SECTION 1\n",
    "\n",
    "### THIS SECTION WILL FOCUS ON THE EXPLORATORY DATA ANALYSIS OF ALL THE FACTORS"
   ]
  },
  {
   "cell_type": "code",
   "execution_count": 6,
   "id": "fd7f18d9",
   "metadata": {},
   "outputs": [
    {
     "data": {
      "text/plain": [
       "False"
      ]
     },
     "execution_count": 6,
     "metadata": {},
     "output_type": "execute_result"
    }
   ],
   "source": [
    "#check for missing values in the dataset\n",
    "#we expect either a true or a false\n",
    "df.isna().any().any()\n",
    "\n",
    "#the result was false so we are not missing any data"
   ]
  },
  {
   "cell_type": "code",
   "execution_count": 7,
   "id": "d6660a5b",
   "metadata": {},
   "outputs": [
    {
     "data": {
      "image/png": "[encoded data removed]",
      "text/plain": [
       "<Figure size 432x288 with 1 Axes>"
      ]
     },
     "metadata": {
      "needs_background": "light"
     },
     "output_type": "display_data"
    }
   ],
   "source": [
    "'''Now we need to take a closer look and analyze the columns'''\n",
    "\n",
    "#first let's analyze the age column\n",
    "sns.histplot(df.age, discrete=True)\n",
    "plt.title('Age Distribution of the Patients')\n",
    "plt.show()\n",
    "\n",
    "#we can see that most patients are above 40 years old and normal distribution\n",
    "#the peak is at about 57/58 years old"
   ]
  },
  {
   "cell_type": "code",
   "execution_count": 8,
   "id": "68db4a6a",
   "metadata": {},
   "outputs": [
    {
     "data": {
      "text/html": [
       "<div>\n",
       "<style scoped>\n",
       "    .dataframe tbody tr th:only-of-type {\n",
       "        vertical-align: middle;\n",
       "    }\n",
       "\n",
       "    .dataframe tbody tr th {\n",
       "        vertical-align: top;\n",
       "    }\n",
       "\n",
       "    .dataframe thead th {\n",
       "        text-align: right;\n",
       "    }\n",
       "</style>\n",
       "<table border=\"1\" class=\"dataframe\">\n",
       "  <thead>\n",
       "    <tr style=\"text-align: right;\">\n",
       "      <th></th>\n",
       "      <th>sex</th>\n",
       "    </tr>\n",
       "  </thead>\n",
       "  <tbody>\n",
       "    <tr>\n",
       "      <th>1</th>\n",
       "      <td>207</td>\n",
       "    </tr>\n",
       "    <tr>\n",
       "      <th>0</th>\n",
       "      <td>96</td>\n",
       "    </tr>\n",
       "  </tbody>\n",
       "</table>\n",
       "</div>"
      ],
      "text/plain": [
       "   sex\n",
       "1  207\n",
       "0   96"
      ]
     },
     "execution_count": 8,
     "metadata": {},
     "output_type": "execute_result"
    },
    {
     "data": {
      "image/png": "[encoded data removed]",
      "text/plain": [
       "<Figure size 432x288 with 1 Axes>"
      ]
     },
     "metadata": {
      "needs_background": "light"
     },
     "output_type": "display_data"
    }
   ],
   "source": [
    "#next analyze the gender column\n",
    "sns.countplot(x ='sex', data = df) #this plots a countplot for the df for sex column\n",
    "df.sex.value_counts().to_frame() #shows the numerical values\n",
    "\n",
    "#from this we can see there are more males than females"
   ]
  },
  {
   "cell_type": "code",
   "execution_count": 9,
   "id": "64d59262",
   "metadata": {},
   "outputs": [
    {
     "data": {
      "text/html": [
       "<div>\n",
       "<style scoped>\n",
       "    .dataframe tbody tr th:only-of-type {\n",
       "        vertical-align: middle;\n",
       "    }\n",
       "\n",
       "    .dataframe tbody tr th {\n",
       "        vertical-align: top;\n",
       "    }\n",
       "\n",
       "    .dataframe thead th {\n",
       "        text-align: right;\n",
       "    }\n",
       "</style>\n",
       "<table border=\"1\" class=\"dataframe\">\n",
       "  <thead>\n",
       "    <tr style=\"text-align: right;\">\n",
       "      <th></th>\n",
       "      <th>cp</th>\n",
       "    </tr>\n",
       "  </thead>\n",
       "  <tbody>\n",
       "    <tr>\n",
       "      <th>0</th>\n",
       "      <td>143</td>\n",
       "    </tr>\n",
       "    <tr>\n",
       "      <th>2</th>\n",
       "      <td>87</td>\n",
       "    </tr>\n",
       "    <tr>\n",
       "      <th>1</th>\n",
       "      <td>50</td>\n",
       "    </tr>\n",
       "    <tr>\n",
       "      <th>3</th>\n",
       "      <td>23</td>\n",
       "    </tr>\n",
       "  </tbody>\n",
       "</table>\n",
       "</div>"
      ],
      "text/plain": [
       "    cp\n",
       "0  143\n",
       "2   87\n",
       "1   50\n",
       "3   23"
      ]
     },
     "execution_count": 9,
     "metadata": {},
     "output_type": "execute_result"
    },
    {
     "data": {
      "image/png": "[encoded data removed]",
      "text/plain": [
       "<Figure size 432x288 with 1 Axes>"
      ]
     },
     "metadata": {
      "needs_background": "light"
     },
     "output_type": "display_data"
    }
   ],
   "source": [
    "#analyze the chest pain type => 4 different types of pain\n",
    "sns.countplot(x ='cp', data = df) #another countplot for chest pain since it's categorical\n",
    "df.cp.value_counts().to_frame()\n",
    "\n",
    "#we can see the most types of chest pain is 0 -> asymptomatic \n",
    "#this could possibly correlate with age"
   ]
  },
  {
   "cell_type": "code",
   "execution_count": 10,
   "id": "bad30a43",
   "metadata": {},
   "outputs": [
    {
     "data": {
      "image/png": "[encoded data removed]",
      "text/plain": [
       "<Figure size 432x288 with 1 Axes>"
      ]
     },
     "metadata": {
      "needs_background": "light"
     },
     "output_type": "display_data"
    }
   ],
   "source": [
    "#analyze resting blood pressure\n",
    "sns.histplot(df.trtbps)\n",
    "plt.title(\"blood pressure distribution\")\n",
    "plt.show()\n",
    "\n",
    "#roughly normal distribution \n",
    "#peak blood pressure is around 130/135 "
   ]
  },
  {
   "cell_type": "code",
   "execution_count": 11,
   "id": "53a6c611",
   "metadata": {},
   "outputs": [
    {
     "data": {
      "image/png": "[encoded data removed]",
      "text/plain": [
       "<Figure size 432x288 with 1 Axes>"
      ]
     },
     "metadata": {
      "needs_background": "light"
     },
     "output_type": "display_data"
    },
    {
     "data": {
      "image/png": "[encoded data removed]",
      "text/plain": [
       "<Figure size 432x288 with 1 Axes>"
      ]
     },
     "metadata": {
      "needs_background": "light"
     },
     "output_type": "display_data"
    }
   ],
   "source": [
    "#analyze cholestrol variable\n",
    "sns.histplot(df.chol)\n",
    "plt.title('Cholestrol level distribution')\n",
    "plt.show()\n",
    "\n",
    "#the distribution has a roughly normal shape\n",
    "#skewed to the right with the outlier at 600\n",
    "#lets use a boxlot to see it\n",
    "\n",
    "sns.boxplot(data=df, x='chol')\n",
    "plt.title('Boxplot for the cholesterol level')\n",
    "plt.show()\n",
    "#Yes, the cholesterol is higher than approx. 360 can be considered \n",
    "#as outliers. But we can not delete them, because it's realistic values."
   ]
  },
  {
   "cell_type": "code",
   "execution_count": 12,
   "id": "26edcce2",
   "metadata": {},
   "outputs": [
    {
     "data": {
      "text/html": [
       "<div>\n",
       "<style scoped>\n",
       "    .dataframe tbody tr th:only-of-type {\n",
       "        vertical-align: middle;\n",
       "    }\n",
       "\n",
       "    .dataframe tbody tr th {\n",
       "        vertical-align: top;\n",
       "    }\n",
       "\n",
       "    .dataframe thead th {\n",
       "        text-align: right;\n",
       "    }\n",
       "</style>\n",
       "<table border=\"1\" class=\"dataframe\">\n",
       "  <thead>\n",
       "    <tr style=\"text-align: right;\">\n",
       "      <th></th>\n",
       "      <th>fbs</th>\n",
       "    </tr>\n",
       "  </thead>\n",
       "  <tbody>\n",
       "    <tr>\n",
       "      <th>0</th>\n",
       "      <td>258</td>\n",
       "    </tr>\n",
       "    <tr>\n",
       "      <th>1</th>\n",
       "      <td>45</td>\n",
       "    </tr>\n",
       "  </tbody>\n",
       "</table>\n",
       "</div>"
      ],
      "text/plain": [
       "   fbs\n",
       "0  258\n",
       "1   45"
      ]
     },
     "execution_count": 12,
     "metadata": {},
     "output_type": "execute_result"
    },
    {
     "data": {
      "image/png": "[encoded data removed]",
      "text/plain": [
       "<Figure size 432x288 with 1 Axes>"
      ]
     },
     "metadata": {
      "needs_background": "light"
     },
     "output_type": "display_data"
    }
   ],
   "source": [
    "#Analyze Fasting Blood Sugar\n",
    "#0 means < 120, 1 mean > 120\n",
    "sns.countplot(x ='fbs', data = df) #this plots a countplot for the df for sex column\n",
    "df.fbs.value_counts().to_frame() #shows the numerical values\n",
    "\n",
    "#from this we can see that a majority of the patients do not have serious sugar problems"
   ]
  },
  {
   "cell_type": "code",
   "execution_count": 13,
   "id": "ca99f250",
   "metadata": {},
   "outputs": [
    {
     "data": {
      "text/html": [
       "<div>\n",
       "<style scoped>\n",
       "    .dataframe tbody tr th:only-of-type {\n",
       "        vertical-align: middle;\n",
       "    }\n",
       "\n",
       "    .dataframe tbody tr th {\n",
       "        vertical-align: top;\n",
       "    }\n",
       "\n",
       "    .dataframe thead th {\n",
       "        text-align: right;\n",
       "    }\n",
       "</style>\n",
       "<table border=\"1\" class=\"dataframe\">\n",
       "  <thead>\n",
       "    <tr style=\"text-align: right;\">\n",
       "      <th></th>\n",
       "      <th>restecg</th>\n",
       "    </tr>\n",
       "  </thead>\n",
       "  <tbody>\n",
       "    <tr>\n",
       "      <th>1</th>\n",
       "      <td>152</td>\n",
       "    </tr>\n",
       "    <tr>\n",
       "      <th>0</th>\n",
       "      <td>147</td>\n",
       "    </tr>\n",
       "    <tr>\n",
       "      <th>2</th>\n",
       "      <td>4</td>\n",
       "    </tr>\n",
       "  </tbody>\n",
       "</table>\n",
       "</div>"
      ],
      "text/plain": [
       "   restecg\n",
       "1      152\n",
       "0      147\n",
       "2        4"
      ]
     },
     "execution_count": 13,
     "metadata": {},
     "output_type": "execute_result"
    },
    {
     "data": {
      "image/png": "[encoded data removed]",
      "text/plain": [
       "<Figure size 432x288 with 1 Axes>"
      ]
     },
     "metadata": {
      "needs_background": "light"
     },
     "output_type": "display_data"
    }
   ],
   "source": [
    "#analyze ECG column\n",
    "#resting electrocardiographic results(0=normal,1=hypertrophy,2=having ST-T abnorm)\n",
    "sns.countplot(x ='restecg', data = df) #another countplot for chest pain since it's categorical\n",
    "df.restecg.value_counts().to_frame()\n",
    "\n",
    "#we can see that most patients have hypertrophy and a few abnormals"
   ]
  },
  {
   "cell_type": "code",
   "execution_count": 14,
   "id": "9f96a617",
   "metadata": {},
   "outputs": [
    {
     "data": {
      "image/png": "[encoded data removed]",
      "text/plain": [
       "<Figure size 432x288 with 1 Axes>"
      ]
     },
     "metadata": {
      "needs_background": "light"
     },
     "output_type": "display_data"
    },
    {
     "data": {
      "image/png": "[encoded data removed]",
      "text/plain": [
       "<Figure size 432x288 with 1 Axes>"
      ]
     },
     "metadata": {
      "needs_background": "light"
     },
     "output_type": "display_data"
    }
   ],
   "source": [
    "#thalachh=maximum heart rate achieved\n",
    "#Analyze maximum heart rate achieved\n",
    "sns.histplot(df.thalachh)\n",
    "plt.title('Maximum heart rate')\n",
    "plt.show()\n",
    "#the graph seems to be roughly normal with a slight skew left\n",
    "\n",
    "#MHR can be estimated with this equation => MHR = 208-(0.7 x age)\n",
    "\n",
    "#lets look at how many patients have their maximum heart rate achived is higher than estimated\n",
    "sns.histplot(df.thalachh - (208 - (0.7 * df.age)))\n",
    "plt.title('Max heart rate estimated vs actual')\n",
    "plt.show()\n",
    "#from this graph we can see that most patients have a lower MHR than estimated"
   ]
  },
  {
   "cell_type": "code",
   "execution_count": 15,
   "id": "1a4c3bb8",
   "metadata": {},
   "outputs": [
    {
     "data": {
      "text/html": [
       "<div>\n",
       "<style scoped>\n",
       "    .dataframe tbody tr th:only-of-type {\n",
       "        vertical-align: middle;\n",
       "    }\n",
       "\n",
       "    .dataframe tbody tr th {\n",
       "        vertical-align: top;\n",
       "    }\n",
       "\n",
       "    .dataframe thead th {\n",
       "        text-align: right;\n",
       "    }\n",
       "</style>\n",
       "<table border=\"1\" class=\"dataframe\">\n",
       "  <thead>\n",
       "    <tr style=\"text-align: right;\">\n",
       "      <th></th>\n",
       "      <th>exng</th>\n",
       "    </tr>\n",
       "  </thead>\n",
       "  <tbody>\n",
       "    <tr>\n",
       "      <th>0</th>\n",
       "      <td>204</td>\n",
       "    </tr>\n",
       "    <tr>\n",
       "      <th>1</th>\n",
       "      <td>99</td>\n",
       "    </tr>\n",
       "  </tbody>\n",
       "</table>\n",
       "</div>"
      ],
      "text/plain": [
       "   exng\n",
       "0   204\n",
       "1    99"
      ]
     },
     "execution_count": 15,
     "metadata": {},
     "output_type": "execute_result"
    },
    {
     "data": {
      "image/png": "[encoded data removed]",
      "text/plain": [
       "<Figure size 432x288 with 1 Axes>"
      ]
     },
     "metadata": {
      "needs_background": "light"
     },
     "output_type": "display_data"
    }
   ],
   "source": [
    "#exng=exercise induced angina(0 = no, 1 = yes)\n",
    "#Analyze exercise induced angina\n",
    "\n",
    "sns.countplot(x ='exng', data = df) #another countplot for chest pain since it's categorical\n",
    "df.exng.value_counts().to_frame()\n",
    "\n",
    "#more than half of patients do not have exercise induced angina(chest pain)"
   ]
  },
  {
   "cell_type": "code",
   "execution_count": 16,
   "id": "de5a5896",
   "metadata": {},
   "outputs": [
    {
     "data": {
      "image/png": "[encoded data removed]",
      "text/plain": [
       "<Figure size 432x288 with 1 Axes>"
      ]
     },
     "metadata": {
      "needs_background": "light"
     },
     "output_type": "display_data"
    }
   ],
   "source": [
    "#oldpeak=ST depression induced by exercise relative to rest\n",
    "#Analyze oldpeak \n",
    "sns.histplot(df.oldpeak)\n",
    "plt.title('Depresseion induced by exercise relative to rest')\n",
    "plt.show()\n",
    "\n",
    "#narrow peak at 0 and distribution skewed to the right"
   ]
  },
  {
   "cell_type": "code",
   "execution_count": 17,
   "id": "2dec204b",
   "metadata": {},
   "outputs": [
    {
     "data": {
      "text/html": [
       "<div>\n",
       "<style scoped>\n",
       "    .dataframe tbody tr th:only-of-type {\n",
       "        vertical-align: middle;\n",
       "    }\n",
       "\n",
       "    .dataframe tbody tr th {\n",
       "        vertical-align: top;\n",
       "    }\n",
       "\n",
       "    .dataframe thead th {\n",
       "        text-align: right;\n",
       "    }\n",
       "</style>\n",
       "<table border=\"1\" class=\"dataframe\">\n",
       "  <thead>\n",
       "    <tr style=\"text-align: right;\">\n",
       "      <th></th>\n",
       "      <th>slp</th>\n",
       "    </tr>\n",
       "  </thead>\n",
       "  <tbody>\n",
       "    <tr>\n",
       "      <th>2</th>\n",
       "      <td>142</td>\n",
       "    </tr>\n",
       "    <tr>\n",
       "      <th>1</th>\n",
       "      <td>140</td>\n",
       "    </tr>\n",
       "    <tr>\n",
       "      <th>0</th>\n",
       "      <td>21</td>\n",
       "    </tr>\n",
       "  </tbody>\n",
       "</table>\n",
       "</div>"
      ],
      "text/plain": [
       "   slp\n",
       "2  142\n",
       "1  140\n",
       "0   21"
      ]
     },
     "execution_count": 17,
     "metadata": {},
     "output_type": "execute_result"
    },
    {
     "data": {
      "image/png": "[encoded data removed]",
      "text/plain": [
       "<Figure size 432x288 with 1 Axes>"
      ]
     },
     "metadata": {
      "needs_background": "light"
     },
     "output_type": "display_data"
    }
   ],
   "source": [
    "#slp=the slope of the peak exercise ST segment(0=downsloping, 1=flat, 2=upsloping)\n",
    "#Analyze the slope\n",
    "sns.countplot(x ='slp', data = df) #another countplot for chest pain since it's categorical\n",
    "df.slp.value_counts().to_frame()\n",
    "\n",
    "#about half and half of patients either have a flat slope or upsloping\n",
    "#small number of patients downsloping"
   ]
  },
  {
   "cell_type": "code",
   "execution_count": 18,
   "id": "05773026",
   "metadata": {},
   "outputs": [
    {
     "data": {
      "text/html": [
       "<div>\n",
       "<style scoped>\n",
       "    .dataframe tbody tr th:only-of-type {\n",
       "        vertical-align: middle;\n",
       "    }\n",
       "\n",
       "    .dataframe tbody tr th {\n",
       "        vertical-align: top;\n",
       "    }\n",
       "\n",
       "    .dataframe thead th {\n",
       "        text-align: right;\n",
       "    }\n",
       "</style>\n",
       "<table border=\"1\" class=\"dataframe\">\n",
       "  <thead>\n",
       "    <tr style=\"text-align: right;\">\n",
       "      <th></th>\n",
       "      <th>caa</th>\n",
       "    </tr>\n",
       "  </thead>\n",
       "  <tbody>\n",
       "    <tr>\n",
       "      <th>0</th>\n",
       "      <td>175</td>\n",
       "    </tr>\n",
       "    <tr>\n",
       "      <th>1</th>\n",
       "      <td>65</td>\n",
       "    </tr>\n",
       "    <tr>\n",
       "      <th>2</th>\n",
       "      <td>38</td>\n",
       "    </tr>\n",
       "    <tr>\n",
       "      <th>3</th>\n",
       "      <td>20</td>\n",
       "    </tr>\n",
       "    <tr>\n",
       "      <th>4</th>\n",
       "      <td>5</td>\n",
       "    </tr>\n",
       "  </tbody>\n",
       "</table>\n",
       "</div>"
      ],
      "text/plain": [
       "   caa\n",
       "0  175\n",
       "1   65\n",
       "2   38\n",
       "3   20\n",
       "4    5"
      ]
     },
     "execution_count": 18,
     "metadata": {},
     "output_type": "execute_result"
    },
    {
     "data": {
      "image/png": "[encoded data removed]",
      "text/plain": [
       "<Figure size 432x288 with 1 Axes>"
      ]
     },
     "metadata": {
      "needs_background": "light"
     },
     "output_type": "display_data"
    }
   ],
   "source": [
    "#caa=number of major vessels (0-4) colored by flourosopy\n",
    "#Analyze the number of major vessels\n",
    "sns.countplot(x ='caa', data = df) #another countplot for chest pain since it's categorical\n",
    "df.caa.value_counts().to_frame()\n",
    "\n",
    "#more than half the patients do not have major vessels"
   ]
  },
  {
   "cell_type": "code",
   "execution_count": 19,
   "id": "69227578",
   "metadata": {},
   "outputs": [
    {
     "data": {
      "text/html": [
       "<div>\n",
       "<style scoped>\n",
       "    .dataframe tbody tr th:only-of-type {\n",
       "        vertical-align: middle;\n",
       "    }\n",
       "\n",
       "    .dataframe tbody tr th {\n",
       "        vertical-align: top;\n",
       "    }\n",
       "\n",
       "    .dataframe thead th {\n",
       "        text-align: right;\n",
       "    }\n",
       "</style>\n",
       "<table border=\"1\" class=\"dataframe\">\n",
       "  <thead>\n",
       "    <tr style=\"text-align: right;\">\n",
       "      <th></th>\n",
       "      <th>thall</th>\n",
       "    </tr>\n",
       "  </thead>\n",
       "  <tbody>\n",
       "    <tr>\n",
       "      <th>2</th>\n",
       "      <td>166</td>\n",
       "    </tr>\n",
       "    <tr>\n",
       "      <th>3</th>\n",
       "      <td>117</td>\n",
       "    </tr>\n",
       "    <tr>\n",
       "      <th>1</th>\n",
       "      <td>18</td>\n",
       "    </tr>\n",
       "    <tr>\n",
       "      <th>0</th>\n",
       "      <td>2</td>\n",
       "    </tr>\n",
       "  </tbody>\n",
       "</table>\n",
       "</div>"
      ],
      "text/plain": [
       "   thall\n",
       "2    166\n",
       "3    117\n",
       "1     18\n",
       "0      2"
      ]
     },
     "execution_count": 19,
     "metadata": {},
     "output_type": "execute_result"
    },
    {
     "data": {
      "image/png": "[encoded data removed]",
      "text/plain": [
       "<Figure size 432x288 with 1 Axes>"
      ]
     },
     "metadata": {
      "needs_background": "light"
     },
     "output_type": "display_data"
    }
   ],
   "source": [
    "#thall=thallium stress test(1=fixed defect, 2=reversable defect, 3=normal)\n",
    "#Analyze the stress numbers\n",
    "sns.countplot(x ='thall', data = df) #another countplot for chest pain since it's categorical\n",
    "df.thall.value_counts().to_frame()\n"
   ]
  },
  {
   "cell_type": "code",
   "execution_count": 20,
   "id": "985d4501",
   "metadata": {},
   "outputs": [
    {
     "data": {
      "text/html": [
       "<div>\n",
       "<style scoped>\n",
       "    .dataframe tbody tr th:only-of-type {\n",
       "        vertical-align: middle;\n",
       "    }\n",
       "\n",
       "    .dataframe tbody tr th {\n",
       "        vertical-align: top;\n",
       "    }\n",
       "\n",
       "    .dataframe thead th {\n",
       "        text-align: right;\n",
       "    }\n",
       "</style>\n",
       "<table border=\"1\" class=\"dataframe\">\n",
       "  <thead>\n",
       "    <tr style=\"text-align: right;\">\n",
       "      <th></th>\n",
       "      <th>age</th>\n",
       "      <th>sex</th>\n",
       "      <th>cp</th>\n",
       "      <th>trtbps</th>\n",
       "      <th>chol</th>\n",
       "      <th>fbs</th>\n",
       "      <th>restecg</th>\n",
       "      <th>thalachh</th>\n",
       "      <th>exng</th>\n",
       "      <th>oldpeak</th>\n",
       "      <th>slp</th>\n",
       "      <th>caa</th>\n",
       "      <th>thall</th>\n",
       "      <th>output</th>\n",
       "    </tr>\n",
       "  </thead>\n",
       "  <tbody>\n",
       "    <tr>\n",
       "      <th>48</th>\n",
       "      <td>53</td>\n",
       "      <td>0</td>\n",
       "      <td>2</td>\n",
       "      <td>128</td>\n",
       "      <td>216</td>\n",
       "      <td>0</td>\n",
       "      <td>0</td>\n",
       "      <td>115</td>\n",
       "      <td>0</td>\n",
       "      <td>0.0</td>\n",
       "      <td>2</td>\n",
       "      <td>0</td>\n",
       "      <td>0</td>\n",
       "      <td>1</td>\n",
       "    </tr>\n",
       "    <tr>\n",
       "      <th>281</th>\n",
       "      <td>52</td>\n",
       "      <td>1</td>\n",
       "      <td>0</td>\n",
       "      <td>128</td>\n",
       "      <td>204</td>\n",
       "      <td>1</td>\n",
       "      <td>1</td>\n",
       "      <td>156</td>\n",
       "      <td>1</td>\n",
       "      <td>1.0</td>\n",
       "      <td>1</td>\n",
       "      <td>0</td>\n",
       "      <td>0</td>\n",
       "      <td>0</td>\n",
       "    </tr>\n",
       "  </tbody>\n",
       "</table>\n",
       "</div>"
      ],
      "text/plain": [
       "     age  sex  cp  trtbps  chol  fbs  restecg  thalachh  exng  oldpeak  slp  \\\n",
       "48    53    0   2     128   216    0        0       115     0      0.0    2   \n",
       "281   52    1   0     128   204    1        1       156     1      1.0    1   \n",
       "\n",
       "     caa  thall  output  \n",
       "48     0      0       1  \n",
       "281    0      0       0  "
      ]
     },
     "execution_count": 20,
     "metadata": {},
     "output_type": "execute_result"
    }
   ],
   "source": [
    "#most of the patients have normal results or reversable defects\n",
    "#we can see that there are patients with a zero even though they are not listed\n",
    "#analyze the zero patients\n",
    "df.query('thall == 0')\n"
   ]
  },
  {
   "cell_type": "code",
   "execution_count": 21,
   "id": "3ace6047",
   "metadata": {},
   "outputs": [],
   "source": [
    "#after analyzing the zero we see nothing out of the ordinary\n",
    "#we can conclude that the zero's are missing data\n",
    "#handle the missing data by using KNN imputer\n",
    "#The idea in kNN methods is to identify 'k' samples in the dataset\n",
    "#that are similar or close in the space. Then we use these 'k' samples to estimate the value of the missing data points. Each sample's missing values are imputed using the mean value of the 'k'-neighbors found in the dataset.\n",
    "df['thall'] = df['thall'].replace({0 : np.nan})\n",
    "imputer = KNNImputer()\n",
    "df = pd.DataFrame(imputer.fit_transform(df), columns=df.columns)\n",
    "df['thall'] = df['thall'].round()"
   ]
  },
  {
   "cell_type": "code",
   "execution_count": 22,
   "id": "20822b96",
   "metadata": {},
   "outputs": [
    {
     "data": {
      "text/html": [
       "<div>\n",
       "<style scoped>\n",
       "    .dataframe tbody tr th:only-of-type {\n",
       "        vertical-align: middle;\n",
       "    }\n",
       "\n",
       "    .dataframe tbody tr th {\n",
       "        vertical-align: top;\n",
       "    }\n",
       "\n",
       "    .dataframe thead th {\n",
       "        text-align: right;\n",
       "    }\n",
       "</style>\n",
       "<table border=\"1\" class=\"dataframe\">\n",
       "  <thead>\n",
       "    <tr style=\"text-align: right;\">\n",
       "      <th></th>\n",
       "      <th>output</th>\n",
       "    </tr>\n",
       "  </thead>\n",
       "  <tbody>\n",
       "    <tr>\n",
       "      <th>1.0</th>\n",
       "      <td>0.544554</td>\n",
       "    </tr>\n",
       "    <tr>\n",
       "      <th>0.0</th>\n",
       "      <td>0.455446</td>\n",
       "    </tr>\n",
       "  </tbody>\n",
       "</table>\n",
       "</div>"
      ],
      "text/plain": [
       "       output\n",
       "1.0  0.544554\n",
       "0.0  0.455446"
      ]
     },
     "execution_count": 22,
     "metadata": {},
     "output_type": "execute_result"
    },
    {
     "data": {
      "image/png": "[encoded data removed]",
      "text/plain": [
       "<Figure size 432x288 with 1 Axes>"
      ]
     },
     "metadata": {
      "needs_background": "light"
     },
     "output_type": "display_data"
    }
   ],
   "source": [
    "#FINALLY analyze the output \n",
    "#(0 = less chance of heart attack, 1 = higher chance)\n",
    "sns.countplot(x='output', data=df)\n",
    "df.output.value_counts().to_frame()\n",
    "\n",
    "#from this we can see that the distribution is about half and half\n",
    "#this is what we are going to try and predict\n",
    "\n",
    "#put them into percentages\n",
    "df.output.value_counts(normalize=True).to_frame()\n",
    "#roughly 54 percent of patients were at a HIGHER risk of heart attack\n",
    "#roughly 45 percent of patients were at a LOWER risk of heart attack "
   ]
  },
  {
   "cell_type": "markdown",
   "id": "12d1c99c",
   "metadata": {},
   "source": [
    "# SECTION 2\n",
    "\n",
    "### LOOKING MORE INTO HOW THE FACTORS RELATE TO OUR TARGET VARIABLE NOW"
   ]
  },
  {
   "cell_type": "code",
   "execution_count": 23,
   "id": "b7febf4c",
   "metadata": {},
   "outputs": [
    {
     "data": {
      "image/png": "[encoded data removed]",
      "text/plain": [
       "<Figure size 1080x1152 with 6 Axes>"
      ]
     },
     "metadata": {
      "needs_background": "light"
     },
     "output_type": "display_data"
    }
   ],
   "source": [
    "#We will analye the numerical values first\n",
    "#since the target is categorical we cannot apply correlation analysis\n",
    "\n",
    "#BUILDING a distribution for each of the numerical values depending on \n",
    "#target value\n",
    "_, axes = plt.subplots(3, 2, figsize=(15,16))\n",
    "sns.kdeplot(data=df, x='age', hue='output', ax=axes[0, 0])\n",
    "axes[0, 0].set_title('Age distribution ')\n",
    "sns.kdeplot(data=df, x='trtbps', hue='output', ax=axes[0, 1])\n",
    "axes[0, 1].set_title('Resting blood pressure distribution ')\n",
    "sns.kdeplot(data=df, x='chol', hue='output', ax=axes[1, 0])\n",
    "axes[1, 0].set_title('Cholesterol distribution ')\n",
    "sns.kdeplot(data=df, x='thalachh', hue='output', ax=axes[1, 1])\n",
    "axes[1, 1].set_title('Maximum heart rate achieved distribution ')  \n",
    "sns.kdeplot(data=df, x='oldpeak', hue='output', ax=axes[2, 0])\n",
    "axes[2, 0].set_title('ST depression induced by exercise relative to rest distribution')\n",
    "sns.kdeplot(data=df, x='caa', hue='output', ax=axes[2, 1])\n",
    "axes[2, 1].set_title('Number of major vessels distribution ')\n",
    "plt.suptitle('Distribtuions of numerical variables depending on the output value')\n",
    "plt.show()\n"
   ]
  },
  {
   "cell_type": "markdown",
   "id": "ef5f665a",
   "metadata": {},
   "source": [
    "-From the charts above...we see that Blood Pressure and Cholestrol don't have much influence on the result...\n",
    "\n",
    "-oldpeak, caa and thalachh seem to have definite influences on the result\n",
    "\n",
    "-we also see that younger people tend to be at higher risk than older, which is a surprising finding"
   ]
  },
  {
   "cell_type": "code",
   "execution_count": 24,
   "id": "680f715a",
   "metadata": {},
   "outputs": [
    {
     "data": {
      "image/png": "[encoded data removed]",
      "text/plain": [
       "<Figure size 864x360 with 2 Axes>"
      ]
     },
     "metadata": {},
     "output_type": "display_data"
    },
    {
     "data": {
      "text/html": [
       "<div>\n",
       "<style scoped>\n",
       "    .dataframe tbody tr th:only-of-type {\n",
       "        vertical-align: middle;\n",
       "    }\n",
       "\n",
       "    .dataframe tbody tr th {\n",
       "        vertical-align: top;\n",
       "    }\n",
       "\n",
       "    .dataframe thead th {\n",
       "        text-align: right;\n",
       "    }\n",
       "</style>\n",
       "<table border=\"1\" class=\"dataframe\">\n",
       "  <thead>\n",
       "    <tr style=\"text-align: right;\">\n",
       "      <th></th>\n",
       "      <th>output</th>\n",
       "      <th>sex</th>\n",
       "    </tr>\n",
       "  </thead>\n",
       "  <tbody>\n",
       "    <tr>\n",
       "      <th>0</th>\n",
       "      <td>0.0</td>\n",
       "      <td>0.826087</td>\n",
       "    </tr>\n",
       "    <tr>\n",
       "      <th>1</th>\n",
       "      <td>1.0</td>\n",
       "      <td>0.563636</td>\n",
       "    </tr>\n",
       "  </tbody>\n",
       "</table>\n",
       "</div>"
      ],
      "text/plain": [
       "   output       sex\n",
       "0     0.0  0.826087\n",
       "1     1.0  0.563636"
      ]
     },
     "execution_count": 24,
     "metadata": {},
     "output_type": "execute_result"
    }
   ],
   "source": [
    "#We will analye the Categorical Variables NOW\n",
    "#since most of the classes are balanced we will use pie plots to compare\n",
    "#based on the outputs\n",
    "\n",
    "_, axes = plt.subplots(1, 2, figsize=(12,5))\n",
    "\n",
    "#this is the pie plot for heart attack risks based on gender\n",
    "axes[0].pie(df.query('output == 0').groupby('sex')['sex'].count(), labels=['female', 'male'])\n",
    "axes[0].set_title('Low risk of a heart attack')\n",
    "axes[1].pie(df.query('output == 1').groupby('sex')['sex'].count(), labels=['female', 'male'])\n",
    "axes[1].set_title('High risk of a heart attack')\n",
    "plt.suptitle('Influence of gender on the risk of a heart attack', fontsize=15)\n",
    "plt.show()\n",
    "\n",
    "#showing the dataframe of gender column with respect to the output\n",
    "df.groupby('output', as_index=False)['sex'].mean()"
   ]
  },
  {
   "cell_type": "markdown",
   "id": "847b8010",
   "metadata": {},
   "source": [
    "-Of the patients with low risk of heart attack...we see that roughly 82% of the patients are male.\n",
    "-of the patients with high risk of heart attack...we see that males make up 56.4% percent of patients. We can conclude from this result that females are more prone to heart attacks. "
   ]
  },
  {
   "cell_type": "code",
   "execution_count": 25,
   "id": "71236ef0",
   "metadata": {},
   "outputs": [
    {
     "data": {
      "image/png": "[encoded data removed]",
      "text/plain": [
       "<Figure size 864x360 with 2 Axes>"
      ]
     },
     "metadata": {},
     "output_type": "display_data"
    }
   ],
   "source": [
    "#NEXT we will analyze chest pain type with respect to the output\n",
    "_, axes = plt.subplots(1, 2, figsize=(12,5)) \n",
    "\n",
    "labels = ['asymptomatic', 'typical angina', 'atypical angina', 'non-anginal pain']\n",
    "\n",
    "axes[0].pie(df.query('output == 0').groupby('cp')['cp'].count(), labels=labels)\n",
    "axes[0].set_title('Low risk of a heart attack')\n",
    "axes[1].pie(df.query('output == 1').groupby('cp')['cp'].count(), labels=labels)\n",
    "axes[1].set_title('High risk of a heart attack')\n",
    "plt.suptitle('Influence of chest pain type on the risk of a heart attack', fontsize=15)\n",
    "plt.show()\n",
    "\n"
   ]
  },
  {
   "cell_type": "markdown",
   "id": "201a3988",
   "metadata": {},
   "source": [
    "From this chart we can see that any chest pain type does not give us any definitive evidence. Each chest pain group is likely to be in both categories."
   ]
  },
  {
   "cell_type": "code",
   "execution_count": 26,
   "id": "ab2ef23a",
   "metadata": {},
   "outputs": [
    {
     "data": {
      "image/png": "[encoded data removed]",
      "text/plain": [
       "<Figure size 864x360 with 2 Axes>"
      ]
     },
     "metadata": {},
     "output_type": "display_data"
    }
   ],
   "source": [
    "#NEXT we will analyze blood sugar type with respect to the output\n",
    "_, axes = plt.subplots(1, 2, figsize=(12,5))\n",
    "labels = ['low sugar', 'high sugar']\n",
    "\n",
    "axes[0].pie(df.query('output == 0').groupby('fbs')['fbs'].count(), labels=labels)\n",
    "axes[0].set_title('Low risk of a heart attack')\n",
    "axes[1].pie(df.query('output == 1').groupby('fbs')['fbs'].count(), labels=labels)\n",
    "axes[1].set_title('High risk of a heart attack')\n",
    "plt.suptitle('Influence of fasting blood sugar on the risk of a heart attack', fontsize=15)\n",
    "plt.show()"
   ]
  },
  {
   "cell_type": "markdown",
   "id": "01447f85",
   "metadata": {},
   "source": [
    "Fasting blood sugar has no affect on the risk of a heart attack in patients."
   ]
  },
  {
   "cell_type": "code",
   "execution_count": 27,
   "id": "86f291ae",
   "metadata": {},
   "outputs": [
    {
     "data": {
      "image/png": "[encoded data removed]",
      "text/plain": [
       "<Figure size 864x360 with 2 Axes>"
      ]
     },
     "metadata": {},
     "output_type": "display_data"
    }
   ],
   "source": [
    "#NEXT we will analyze resting electrocariographic with respect to the output\n",
    "_, axes = plt.subplots(1, 2, figsize=(12,5)) \n",
    "\n",
    "labels = ['normal', 'hypertrophy', 'ST-T wave abnormality']\n",
    "\n",
    "axes[0].pie(df.query('output == 0').groupby('restecg')['restecg'].count(), labels=labels)\n",
    "axes[0].set_title('Low risk of a heart attack')\n",
    "axes[1].pie(df.query('output == 1').groupby('restecg')['restecg'].count(), labels=labels)\n",
    "axes[1].set_title('High risk of a heart attack')\n",
    "plt.suptitle('Influence of electrocargographic results on the risk of a heart attack', fontsize=15)\n",
    "plt.show()\n",
    "\n"
   ]
  },
  {
   "cell_type": "markdown",
   "id": "012f5718",
   "metadata": {},
   "source": [
    "People with a hypertrophy are more prone to getting a heart attack from the results"
   ]
  },
  {
   "cell_type": "code",
   "execution_count": 28,
   "id": "adeedf14",
   "metadata": {},
   "outputs": [
    {
     "data": {
      "image/png": "[encoded data removed]",
      "text/plain": [
       "<Figure size 864x360 with 2 Axes>"
      ]
     },
     "metadata": {},
     "output_type": "display_data"
    }
   ],
   "source": [
    "#NEXT we will analyze exercising induced angina with respect to the output\n",
    "#A type of chest pain caused by reduced blood flow to the heart.\n",
    "_, axes = plt.subplots(1, 2, figsize=(12,5))\n",
    "labels = ['no exercise induced angina', 'exercise induced angina']\n",
    "\n",
    "axes[0].pie(df.query('output == 0').groupby('exng')['exng'].count(), labels=labels)\n",
    "axes[0].set_title('Low risk of a heart attack')\n",
    "axes[1].pie(df.query('output == 1').groupby('exng')['exng'].count(), labels=labels)\n",
    "axes[1].set_title('High risk of a heart attack')\n",
    "plt.suptitle('Influence of exercise induced angina on the risk of a heart attack', fontsize=15)\n",
    "plt.show()"
   ]
  },
  {
   "cell_type": "markdown",
   "id": "d70164e7",
   "metadata": {},
   "source": [
    "From the results we can see that...angina that was not caused by exercise is a higher risk of a heart attack. Exercise induced angina is more likely to be a lower risk of heart attack."
   ]
  },
  {
   "cell_type": "code",
   "execution_count": 29,
   "id": "c88a70a9",
   "metadata": {},
   "outputs": [
    {
     "data": {
      "image/png": "[encoded data removed]",
      "text/plain": [
       "<Figure size 864x360 with 2 Axes>"
      ]
     },
     "metadata": {},
     "output_type": "display_data"
    }
   ],
   "source": [
    "#Analyze the slope of the peak exercise ST segment relative to the output\n",
    "\n",
    "_, axes = plt.subplots(1, 2, figsize=(12,5))\n",
    "labels = ['downsloping', 'flat', 'upsloping']\n",
    "\n",
    "axes[0].pie(df.query('output == 0').groupby('slp')['slp'].count(), labels=labels)\n",
    "axes[0].set_title('Low risk of a heart attack')\n",
    "axes[1].pie(df.query('output == 1').groupby('slp')['slp'].count(), labels=labels)\n",
    "axes[1].set_title('High risk of a heart attack')\n",
    "plt.suptitle('Influence of the slope of the peak exercise ST segment on the risk of a heart attack', fontsize=15)\n",
    "plt.show()\n"
   ]
  },
  {
   "cell_type": "markdown",
   "id": "47f8c08c",
   "metadata": {},
   "source": [
    "We can see that those with an upslope have a higher risk of heart attack. Those with flat and downsloping slope, have a lower risk of heart attack.\n"
   ]
  },
  {
   "cell_type": "code",
   "execution_count": 30,
   "id": "572e0b4a",
   "metadata": {},
   "outputs": [
    {
     "data": {
      "image/png": "[encoded data removed]",
      "text/plain": [
       "<Figure size 864x360 with 2 Axes>"
      ]
     },
     "metadata": {},
     "output_type": "display_data"
    }
   ],
   "source": [
    "#Analyze thallium stress test relative to the outputs\n",
    "_, axes = plt.subplots(1, 2, figsize=(12,5))\n",
    "labels = ['fixed defect', 'reversable defect', 'normal']\n",
    "\n",
    "axes[0].pie(df.query('output == 0').groupby('thall')['thall'].count(), labels=labels)\n",
    "axes[0].set_title('Low risk of a heart attack')\n",
    "axes[1].pie(df.query('output == 1').groupby('thall')['thall'].count(), labels=labels)\n",
    "axes[1].set_title('High risk of a heart attack')\n",
    "plt.suptitle('Influence of the thallium stress test on the risk of a heart attack', fontsize=15)\n",
    "plt.show()"
   ]
  },
  {
   "cell_type": "markdown",
   "id": "e0074c87",
   "metadata": {},
   "source": [
    "Thallium stress test results affect the chance to be in the risk group. People with normal results are less prone to a heart attack."
   ]
  },
  {
   "cell_type": "code",
   "execution_count": 31,
   "id": "a67855fb",
   "metadata": {},
   "outputs": [
    {
     "data": {
      "text/plain": [
       "0.0    13\n",
       "Name: output, dtype: int64"
      ]
     },
     "execution_count": 31,
     "metadata": {},
     "output_type": "execute_result"
    }
   ],
   "source": [
    "'''Out dataset is built the way when the low categorical value\n",
    "means a good condition, and high categorical value means a bad condition\n",
    "(exng is equal to 0 when no angina, restecg is equal to 0 when normal \n",
    "results). Only one exception is thall feature. Let's change this by \n",
    "mapping.'''\n",
    "#changing the mapping of our column to make it consistent with whole dataset\n",
    "df['thall'] = df['thall'].map({3 : 0, 1 : 2, 2 : 1})\n",
    "\n",
    "df.query('cp == 0 and restecg == 0 and exng == 0 and thall == 0')['output'].value_counts()\n"
   ]
  },
  {
   "cell_type": "code",
   "execution_count": 32,
   "id": "2828866a",
   "metadata": {},
   "outputs": [
    {
     "data": {
      "image/png": "[encoded data removed]",
      "text/plain": [
       "<Figure size 864x360 with 1 Axes>"
      ]
     },
     "metadata": {
      "needs_background": "light"
     },
     "output_type": "display_data"
    }
   ],
   "source": [
    "#SUMMARIZING ALL THE FEATURES IN ONE AND CHECK DISTRIBUTIONS\n",
    "plt.figure(figsize=(12,5))\n",
    "df_0 = df.query('output == 0')\n",
    "df_1 = df.query('output == 1')\n",
    "sns.kdeplot(df_0.cp + df_0.restecg + df_0.exng + df_0.thall, label='low risk of a heart attack')\n",
    "sns.kdeplot(df_1.cp + df_1.restecg + df_1.exng + df_1.thall, label='high risk of a heart attack')\n",
    "plt.title('Influence of health condition on the output')\n",
    "plt.xlabel('Health condition (the lower score the better)')\n",
    "plt.legend()\n",
    "plt.show()"
   ]
  },
  {
   "cell_type": "markdown",
   "id": "89dd0336",
   "metadata": {},
   "source": [
    "So we know that the lower scores generally mean the better result throughout this dataset...so from this chart we can see that the highest density of high risk heart attack patients is between 3 and 4. This means that patients with better health(based on the lower numbers) has a lower chance of having a heart attack."
   ]
  },
  {
   "cell_type": "markdown",
   "id": "bacf5023",
   "metadata": {},
   "source": [
    "## Conclusions\n",
    "The majority of the patients are older than 40.<br/><br/>\n",
    "In the dataset there are 2 times more males than females.<br/><br/>\n",
    "54.5% of the patients have a high risk of heart attack, 45.5% - low risk  of a heart attack. The classes are relatively balanced. <br/><br/>\n",
    "The following numerical features affect the output: age, maximum heart rate achieved, ST depression induced by exercise relative to rest distribution, and the number of major vessels.<br/><br/>\n",
    "All categorical features, except fasting blood sugar, affect the output.<br/><br/>\n",
    "Age distribution of patients from the high-risk group has a peak at 50-52 ages.<br/><br/>\n",
    "Women are more prone to a heart attack than men.<br/><br/>\n",
    "Patients that have normal analysis results (such as electrocardiography or thallium stress test) are less likely to have a heart attack."
   ]
  },
  {
   "cell_type": "markdown",
   "id": "65f41dc9",
   "metadata": {},
   "source": [
    "# SECTION 3\n",
    "\n",
    "### IN THIS SECTION WE WILL TRY TO BUILD NEW FEATURES THAT COULD HELP US PREDICT THE OUTCOMES. COMBINE WHAT WE ALREADY HAVE."
   ]
  },
  {
   "cell_type": "code",
   "execution_count": 33,
   "id": "0bfffb55",
   "metadata": {},
   "outputs": [],
   "source": [
    "#first we are going to copy the original dataset so we can compare the new dataset we will make\n",
    "df_new = df.copy()\n"
   ]
  },
  {
   "cell_type": "code",
   "execution_count": 34,
   "id": "61e669f2",
   "metadata": {},
   "outputs": [
    {
     "data": {
      "text/html": [
       "<div>\n",
       "<style scoped>\n",
       "    .dataframe tbody tr th:only-of-type {\n",
       "        vertical-align: middle;\n",
       "    }\n",
       "\n",
       "    .dataframe tbody tr th {\n",
       "        vertical-align: top;\n",
       "    }\n",
       "\n",
       "    .dataframe thead th {\n",
       "        text-align: right;\n",
       "    }\n",
       "</style>\n",
       "<table border=\"1\" class=\"dataframe\">\n",
       "  <thead>\n",
       "    <tr style=\"text-align: right;\">\n",
       "      <th></th>\n",
       "      <th>feature</th>\n",
       "      <th>importance</th>\n",
       "    </tr>\n",
       "  </thead>\n",
       "  <tbody>\n",
       "    <tr>\n",
       "      <th>2</th>\n",
       "      <td>cp</td>\n",
       "      <td>0.143875</td>\n",
       "    </tr>\n",
       "    <tr>\n",
       "      <th>7</th>\n",
       "      <td>thalachh</td>\n",
       "      <td>0.125165</td>\n",
       "    </tr>\n",
       "    <tr>\n",
       "      <th>12</th>\n",
       "      <td>thall</td>\n",
       "      <td>0.109902</td>\n",
       "    </tr>\n",
       "    <tr>\n",
       "      <th>11</th>\n",
       "      <td>caa</td>\n",
       "      <td>0.109500</td>\n",
       "    </tr>\n",
       "    <tr>\n",
       "      <th>9</th>\n",
       "      <td>oldpeak</td>\n",
       "      <td>0.106870</td>\n",
       "    </tr>\n",
       "    <tr>\n",
       "      <th>0</th>\n",
       "      <td>age</td>\n",
       "      <td>0.081869</td>\n",
       "    </tr>\n",
       "    <tr>\n",
       "      <th>4</th>\n",
       "      <td>chol</td>\n",
       "      <td>0.073372</td>\n",
       "    </tr>\n",
       "    <tr>\n",
       "      <th>3</th>\n",
       "      <td>trtbps</td>\n",
       "      <td>0.072702</td>\n",
       "    </tr>\n",
       "    <tr>\n",
       "      <th>8</th>\n",
       "      <td>exng</td>\n",
       "      <td>0.059275</td>\n",
       "    </tr>\n",
       "    <tr>\n",
       "      <th>10</th>\n",
       "      <td>slp</td>\n",
       "      <td>0.051713</td>\n",
       "    </tr>\n",
       "    <tr>\n",
       "      <th>1</th>\n",
       "      <td>sex</td>\n",
       "      <td>0.032115</td>\n",
       "    </tr>\n",
       "    <tr>\n",
       "      <th>6</th>\n",
       "      <td>restecg</td>\n",
       "      <td>0.023787</td>\n",
       "    </tr>\n",
       "    <tr>\n",
       "      <th>5</th>\n",
       "      <td>fbs</td>\n",
       "      <td>0.009855</td>\n",
       "    </tr>\n",
       "  </tbody>\n",
       "</table>\n",
       "</div>"
      ],
      "text/plain": [
       "     feature  importance\n",
       "2         cp    0.143875\n",
       "7   thalachh    0.125165\n",
       "12     thall    0.109902\n",
       "11       caa    0.109500\n",
       "9    oldpeak    0.106870\n",
       "0        age    0.081869\n",
       "4       chol    0.073372\n",
       "3     trtbps    0.072702\n",
       "8       exng    0.059275\n",
       "10       slp    0.051713\n",
       "1        sex    0.032115\n",
       "6    restecg    0.023787\n",
       "5        fbs    0.009855"
      ]
     },
     "execution_count": 34,
     "metadata": {},
     "output_type": "execute_result"
    }
   ],
   "source": [
    "#let's check which features are important by running the importance function from RandomForestClassifier\n",
    "rf_classifier = RandomForestClassifier(max_depth=8, n_estimators=100, random_state = 42)\n",
    "rf_classifier.fit(df.drop('output', axis=1), df['output'])\n",
    "\n",
    "importance = pd.concat([pd.Series(df.columns[:-1]),\n",
    "                        pd.Series(rf_classifier.feature_importances_)], axis=1)\n",
    "importance.columns = ['feature', 'importance']\n",
    "importance = importance.sort_values(by='importance', ascending=False)\n",
    "importance"
   ]
  },
  {
   "cell_type": "code",
   "execution_count": 35,
   "id": "d446c95b",
   "metadata": {},
   "outputs": [
    {
     "data": {
      "image/png": "[encoded data removed]",
      "text/plain": [
       "<Figure size 864x360 with 1 Axes>"
      ]
     },
     "metadata": {
      "needs_background": "light"
     },
     "output_type": "display_data"
    }
   ],
   "source": [
    "#graph the findings we got about the importance of our features\n",
    "plt.figure(figsize=(12,5))\n",
    "sns.barplot(data=importance, x='feature',y='importance')\n",
    "plt.title('Feature Importances')\n",
    "plt.show()\n",
    "\n",
    "#from this chart we can see that blood sugar has the lowest importance "
   ]
  },
  {
   "cell_type": "code",
   "execution_count": 36,
   "id": "51840f92",
   "metadata": {},
   "outputs": [],
   "source": [
    "#since we found that blood sugar has a low importance, we can remove the feature\n",
    "df_new = df_new.drop('fbs', axis=1)\n"
   ]
  },
  {
   "cell_type": "code",
   "execution_count": 37,
   "id": "4bae0b10",
   "metadata": {},
   "outputs": [],
   "source": [
    "#although the sex and rest esg says that they are not important\n",
    "#the EDA shows us that they are actually important\n",
    "\n"
   ]
  },
  {
   "cell_type": "markdown",
   "id": "e23c9bb9",
   "metadata": {},
   "source": [
    "The feature, that has an influence on the output, is the maximum heart rate achieved. In medical practice it's calculated using the following equation:\n",
    "\n",
    "𝑀𝐻𝑅=208−(0.7×𝑎𝑔𝑒)\n",
    " \n",
    "We can use it as a new feature."
   ]
  },
  {
   "cell_type": "code",
   "execution_count": 38,
   "id": "a19ae6ec",
   "metadata": {},
   "outputs": [],
   "source": [
    "#this creates a new column with these computations\n",
    "df_new['mhr_estimation'] = 208 - 0.7 * df_new['age']\n"
   ]
  },
  {
   "cell_type": "markdown",
   "id": "53646ddb",
   "metadata": {},
   "source": [
    "#### make categorical features out of blood pressure\n",
    "\n",
    "pressure < 120 = 0 (normal)\n",
    "120 <= pressure < 140 = 1 (elevated)\n",
    "140 <= pressure = 2 (high)"
   ]
  },
  {
   "cell_type": "code",
   "execution_count": 39,
   "id": "7585a164",
   "metadata": {},
   "outputs": [
    {
     "data": {
      "text/html": [
       "<div>\n",
       "<style scoped>\n",
       "    .dataframe tbody tr th:only-of-type {\n",
       "        vertical-align: middle;\n",
       "    }\n",
       "\n",
       "    .dataframe tbody tr th {\n",
       "        vertical-align: top;\n",
       "    }\n",
       "\n",
       "    .dataframe thead th {\n",
       "        text-align: right;\n",
       "    }\n",
       "</style>\n",
       "<table border=\"1\" class=\"dataframe\">\n",
       "  <thead>\n",
       "    <tr style=\"text-align: right;\">\n",
       "      <th></th>\n",
       "      <th>blood_pres_cat</th>\n",
       "    </tr>\n",
       "  </thead>\n",
       "  <tbody>\n",
       "    <tr>\n",
       "      <th>1</th>\n",
       "      <td>146</td>\n",
       "    </tr>\n",
       "    <tr>\n",
       "      <th>2</th>\n",
       "      <td>97</td>\n",
       "    </tr>\n",
       "    <tr>\n",
       "      <th>0</th>\n",
       "      <td>60</td>\n",
       "    </tr>\n",
       "  </tbody>\n",
       "</table>\n",
       "</div>"
      ],
      "text/plain": [
       "   blood_pres_cat\n",
       "1             146\n",
       "2              97\n",
       "0              60"
      ]
     },
     "execution_count": 39,
     "metadata": {},
     "output_type": "execute_result"
    }
   ],
   "source": [
    "#basically a function that says \n",
    "#if blood pressure < 120 = 0\n",
    "#if blood pressure < 140 and > 120 = 1\n",
    "#if blood pressure > 140 = 2\n",
    "df_new['blood_pres_cat'] = df_new['trtbps'].apply(lambda x:0 if x < 120 else (1 if x < 140 else 2))\n",
    "\n",
    "df_new['blood_pres_cat'].value_counts().to_frame()\n"
   ]
  },
  {
   "cell_type": "markdown",
   "id": "0bd009a7",
   "metadata": {},
   "source": [
    "#### make categorical features out of cholestrol\n",
    "\n",
    "cholesterol < 200 = 0 (desirable) <br/>\n",
    "200 <= cholesterol < 240 = 1 (borderline)<br/>\n",
    "240 <= cholesterol = 2 (high)"
   ]
  },
  {
   "cell_type": "code",
   "execution_count": 40,
   "id": "6652babb",
   "metadata": {},
   "outputs": [
    {
     "data": {
      "text/html": [
       "<div>\n",
       "<style scoped>\n",
       "    .dataframe tbody tr th:only-of-type {\n",
       "        vertical-align: middle;\n",
       "    }\n",
       "\n",
       "    .dataframe tbody tr th {\n",
       "        vertical-align: top;\n",
       "    }\n",
       "\n",
       "    .dataframe thead th {\n",
       "        text-align: right;\n",
       "    }\n",
       "</style>\n",
       "<table border=\"1\" class=\"dataframe\">\n",
       "  <thead>\n",
       "    <tr style=\"text-align: right;\">\n",
       "      <th></th>\n",
       "      <th>cholestrol_cat</th>\n",
       "    </tr>\n",
       "  </thead>\n",
       "  <tbody>\n",
       "    <tr>\n",
       "      <th>2</th>\n",
       "      <td>155</td>\n",
       "    </tr>\n",
       "    <tr>\n",
       "      <th>1</th>\n",
       "      <td>98</td>\n",
       "    </tr>\n",
       "    <tr>\n",
       "      <th>0</th>\n",
       "      <td>50</td>\n",
       "    </tr>\n",
       "  </tbody>\n",
       "</table>\n",
       "</div>"
      ],
      "text/plain": [
       "   cholestrol_cat\n",
       "2             155\n",
       "1              98\n",
       "0              50"
      ]
     },
     "execution_count": 40,
     "metadata": {},
     "output_type": "execute_result"
    }
   ],
   "source": [
    "df_new['cholestrol_cat'] = df_new['chol'].apply(lambda x:0 if x<200 else (1 if x < 240 else 2))\n",
    "df_new['cholestrol_cat'].value_counts().to_frame()\n",
    "\n"
   ]
  },
  {
   "cell_type": "markdown",
   "id": "f611ef31",
   "metadata": {},
   "source": [
    "We can combine the last two features that we created <br/>\n",
    "If a person has a low blood pressure and low cholestrol <br/>\n",
    "they get a 0, if they have both high then they get a 4<br/>\n",
    "Basically higher numbers are worse health"
   ]
  },
  {
   "cell_type": "code",
   "execution_count": 41,
   "id": "88b9a809",
   "metadata": {},
   "outputs": [
    {
     "data": {
      "text/html": [
       "<div>\n",
       "<style scoped>\n",
       "    .dataframe tbody tr th:only-of-type {\n",
       "        vertical-align: middle;\n",
       "    }\n",
       "\n",
       "    .dataframe tbody tr th {\n",
       "        vertical-align: top;\n",
       "    }\n",
       "\n",
       "    .dataframe thead th {\n",
       "        text-align: right;\n",
       "    }\n",
       "</style>\n",
       "<table border=\"1\" class=\"dataframe\">\n",
       "  <thead>\n",
       "    <tr style=\"text-align: right;\">\n",
       "      <th></th>\n",
       "      <th>pres_chol_sum_cat</th>\n",
       "    </tr>\n",
       "  </thead>\n",
       "  <tbody>\n",
       "    <tr>\n",
       "      <th>3</th>\n",
       "      <td>109</td>\n",
       "    </tr>\n",
       "    <tr>\n",
       "      <th>2</th>\n",
       "      <td>84</td>\n",
       "    </tr>\n",
       "    <tr>\n",
       "      <th>4</th>\n",
       "      <td>52</td>\n",
       "    </tr>\n",
       "    <tr>\n",
       "      <th>1</th>\n",
       "      <td>45</td>\n",
       "    </tr>\n",
       "    <tr>\n",
       "      <th>0</th>\n",
       "      <td>13</td>\n",
       "    </tr>\n",
       "  </tbody>\n",
       "</table>\n",
       "</div>"
      ],
      "text/plain": [
       "   pres_chol_sum_cat\n",
       "3                109\n",
       "2                 84\n",
       "4                 52\n",
       "1                 45\n",
       "0                 13"
      ]
     },
     "execution_count": 41,
     "metadata": {},
     "output_type": "execute_result"
    }
   ],
   "source": [
    "df_new['pres_chol_sum_cat'] = df_new['blood_pres_cat'] + df_new['cholestrol_cat']\n",
    "df_new['pres_chol_sum_cat'].value_counts().to_frame()\n"
   ]
  },
  {
   "cell_type": "markdown",
   "id": "37156dc0",
   "metadata": {},
   "source": [
    "Combine all the new categorical variables together to make a new column\n"
   ]
  },
  {
   "cell_type": "code",
   "execution_count": 42,
   "id": "ad39f35f",
   "metadata": {},
   "outputs": [
    {
     "data": {
      "text/html": [
       "<div>\n",
       "<style scoped>\n",
       "    .dataframe tbody tr th:only-of-type {\n",
       "        vertical-align: middle;\n",
       "    }\n",
       "\n",
       "    .dataframe tbody tr th {\n",
       "        vertical-align: top;\n",
       "    }\n",
       "\n",
       "    .dataframe thead th {\n",
       "        text-align: right;\n",
       "    }\n",
       "</style>\n",
       "<table border=\"1\" class=\"dataframe\">\n",
       "  <thead>\n",
       "    <tr style=\"text-align: right;\">\n",
       "      <th></th>\n",
       "      <th>cat_sum</th>\n",
       "    </tr>\n",
       "  </thead>\n",
       "  <tbody>\n",
       "    <tr>\n",
       "      <th>2.0</th>\n",
       "      <td>85</td>\n",
       "    </tr>\n",
       "    <tr>\n",
       "      <th>3.0</th>\n",
       "      <td>73</td>\n",
       "    </tr>\n",
       "    <tr>\n",
       "      <th>1.0</th>\n",
       "      <td>60</td>\n",
       "    </tr>\n",
       "    <tr>\n",
       "      <th>4.0</th>\n",
       "      <td>54</td>\n",
       "    </tr>\n",
       "    <tr>\n",
       "      <th>5.0</th>\n",
       "      <td>18</td>\n",
       "    </tr>\n",
       "    <tr>\n",
       "      <th>0.0</th>\n",
       "      <td>13</td>\n",
       "    </tr>\n",
       "  </tbody>\n",
       "</table>\n",
       "</div>"
      ],
      "text/plain": [
       "     cat_sum\n",
       "2.0       85\n",
       "3.0       73\n",
       "1.0       60\n",
       "4.0       54\n",
       "5.0       18\n",
       "0.0       13"
      ]
     },
     "execution_count": 42,
     "metadata": {},
     "output_type": "execute_result"
    }
   ],
   "source": [
    "df_new['cat_sum'] = df_new['cp'] + df_new['restecg'] + df_new['exng']+ df_new['thall']\n",
    "\n",
    "df_new['cat_sum'].value_counts().to_frame()\n",
    "\n",
    "#for this one...basically the higher the number, the worse health you have\n"
   ]
  },
  {
   "cell_type": "code",
   "execution_count": 43,
   "id": "96e54b17",
   "metadata": {},
   "outputs": [
    {
     "data": {
      "text/html": [
       "<div>\n",
       "<style scoped>\n",
       "    .dataframe tbody tr th:only-of-type {\n",
       "        vertical-align: middle;\n",
       "    }\n",
       "\n",
       "    .dataframe tbody tr th {\n",
       "        vertical-align: top;\n",
       "    }\n",
       "\n",
       "    .dataframe thead th {\n",
       "        text-align: right;\n",
       "    }\n",
       "</style>\n",
       "<table border=\"1\" class=\"dataframe\">\n",
       "  <thead>\n",
       "    <tr style=\"text-align: right;\">\n",
       "      <th></th>\n",
       "      <th>age</th>\n",
       "      <th>sex</th>\n",
       "      <th>cp</th>\n",
       "      <th>trtbps</th>\n",
       "      <th>chol</th>\n",
       "      <th>restecg</th>\n",
       "      <th>thalachh</th>\n",
       "      <th>exng</th>\n",
       "      <th>oldpeak</th>\n",
       "      <th>slp</th>\n",
       "      <th>caa</th>\n",
       "      <th>thall</th>\n",
       "      <th>output</th>\n",
       "      <th>mhr_estimation</th>\n",
       "      <th>blood_pres_cat</th>\n",
       "      <th>cholestrol_cat</th>\n",
       "      <th>pres_chol_sum_cat</th>\n",
       "      <th>cat_sum</th>\n",
       "    </tr>\n",
       "  </thead>\n",
       "  <tbody>\n",
       "    <tr>\n",
       "      <th>0</th>\n",
       "      <td>63.0</td>\n",
       "      <td>1.0</td>\n",
       "      <td>3.0</td>\n",
       "      <td>145.0</td>\n",
       "      <td>233.0</td>\n",
       "      <td>0.0</td>\n",
       "      <td>150.0</td>\n",
       "      <td>0.0</td>\n",
       "      <td>2.3</td>\n",
       "      <td>0.0</td>\n",
       "      <td>0.0</td>\n",
       "      <td>2</td>\n",
       "      <td>1.0</td>\n",
       "      <td>163.9</td>\n",
       "      <td>2</td>\n",
       "      <td>1</td>\n",
       "      <td>3</td>\n",
       "      <td>5.0</td>\n",
       "    </tr>\n",
       "    <tr>\n",
       "      <th>1</th>\n",
       "      <td>37.0</td>\n",
       "      <td>1.0</td>\n",
       "      <td>2.0</td>\n",
       "      <td>130.0</td>\n",
       "      <td>250.0</td>\n",
       "      <td>1.0</td>\n",
       "      <td>187.0</td>\n",
       "      <td>0.0</td>\n",
       "      <td>3.5</td>\n",
       "      <td>0.0</td>\n",
       "      <td>0.0</td>\n",
       "      <td>1</td>\n",
       "      <td>1.0</td>\n",
       "      <td>182.1</td>\n",
       "      <td>1</td>\n",
       "      <td>2</td>\n",
       "      <td>3</td>\n",
       "      <td>4.0</td>\n",
       "    </tr>\n",
       "    <tr>\n",
       "      <th>2</th>\n",
       "      <td>41.0</td>\n",
       "      <td>0.0</td>\n",
       "      <td>1.0</td>\n",
       "      <td>130.0</td>\n",
       "      <td>204.0</td>\n",
       "      <td>0.0</td>\n",
       "      <td>172.0</td>\n",
       "      <td>0.0</td>\n",
       "      <td>1.4</td>\n",
       "      <td>2.0</td>\n",
       "      <td>0.0</td>\n",
       "      <td>1</td>\n",
       "      <td>1.0</td>\n",
       "      <td>179.3</td>\n",
       "      <td>1</td>\n",
       "      <td>1</td>\n",
       "      <td>2</td>\n",
       "      <td>2.0</td>\n",
       "    </tr>\n",
       "    <tr>\n",
       "      <th>3</th>\n",
       "      <td>56.0</td>\n",
       "      <td>1.0</td>\n",
       "      <td>1.0</td>\n",
       "      <td>120.0</td>\n",
       "      <td>236.0</td>\n",
       "      <td>1.0</td>\n",
       "      <td>178.0</td>\n",
       "      <td>0.0</td>\n",
       "      <td>0.8</td>\n",
       "      <td>2.0</td>\n",
       "      <td>0.0</td>\n",
       "      <td>1</td>\n",
       "      <td>1.0</td>\n",
       "      <td>168.8</td>\n",
       "      <td>1</td>\n",
       "      <td>1</td>\n",
       "      <td>2</td>\n",
       "      <td>3.0</td>\n",
       "    </tr>\n",
       "    <tr>\n",
       "      <th>4</th>\n",
       "      <td>57.0</td>\n",
       "      <td>0.0</td>\n",
       "      <td>0.0</td>\n",
       "      <td>120.0</td>\n",
       "      <td>354.0</td>\n",
       "      <td>1.0</td>\n",
       "      <td>163.0</td>\n",
       "      <td>1.0</td>\n",
       "      <td>0.6</td>\n",
       "      <td>2.0</td>\n",
       "      <td>0.0</td>\n",
       "      <td>1</td>\n",
       "      <td>1.0</td>\n",
       "      <td>168.1</td>\n",
       "      <td>1</td>\n",
       "      <td>2</td>\n",
       "      <td>3</td>\n",
       "      <td>3.0</td>\n",
       "    </tr>\n",
       "  </tbody>\n",
       "</table>\n",
       "</div>"
      ],
      "text/plain": [
       "    age  sex   cp  trtbps   chol  restecg  thalachh  exng  oldpeak  slp  caa  \\\n",
       "0  63.0  1.0  3.0   145.0  233.0      0.0     150.0   0.0      2.3  0.0  0.0   \n",
       "1  37.0  1.0  2.0   130.0  250.0      1.0     187.0   0.0      3.5  0.0  0.0   \n",
       "2  41.0  0.0  1.0   130.0  204.0      0.0     172.0   0.0      1.4  2.0  0.0   \n",
       "3  56.0  1.0  1.0   120.0  236.0      1.0     178.0   0.0      0.8  2.0  0.0   \n",
       "4  57.0  0.0  0.0   120.0  354.0      1.0     163.0   1.0      0.6  2.0  0.0   \n",
       "\n",
       "   thall  output  mhr_estimation  blood_pres_cat  cholestrol_cat  \\\n",
       "0      2     1.0           163.9               2               1   \n",
       "1      1     1.0           182.1               1               2   \n",
       "2      1     1.0           179.3               1               1   \n",
       "3      1     1.0           168.8               1               1   \n",
       "4      1     1.0           168.1               1               2   \n",
       "\n",
       "   pres_chol_sum_cat  cat_sum  \n",
       "0                  3      5.0  \n",
       "1                  3      4.0  \n",
       "2                  2      2.0  \n",
       "3                  2      3.0  \n",
       "4                  3      3.0  "
      ]
     },
     "execution_count": 43,
     "metadata": {},
     "output_type": "execute_result"
    }
   ],
   "source": [
    "#LETS LOOK AT THE NEW DATAFRAME THAT WE HAVE\n",
    "df_new.head()\n"
   ]
  },
  {
   "cell_type": "markdown",
   "id": "e5138fe6",
   "metadata": {},
   "source": [
    "#### Run the model on the two different datasets and see how it does\n",
    "First, we are running the original dataset <br/>\n",
    "Next, we will run the same model on the edited dataset"
   ]
  },
  {
   "cell_type": "code",
   "execution_count": 44,
   "id": "45e137dd",
   "metadata": {},
   "outputs": [
    {
     "name": "stdout",
     "output_type": "stream",
     "text": [
      "[0.80327869 0.90163934 0.78688525 0.85       0.71666667]\n",
      "Gaussian model mean: 0.8116939890710382\n",
      "[0.81967213 0.90163934 0.83606557 0.88333333 0.75      ]\n",
      "Log Regression mean: 0.8381420765027322\n",
      "[0.75409836 0.86885246 0.75409836 0.73333333 0.71666667]\n",
      "Decision Tree mean: 0.7654098360655738\n",
      "[0.60655738 0.6557377  0.57377049 0.73333333 0.65      ]\n",
      "KNN mean: 0.643879781420765\n",
      "[0.83606557 0.86885246 0.81967213 0.8        0.81666667]\n",
      "Random Forest mean: 0.8282513661202187\n",
      "[0.60655738 0.60655738 0.73770492 0.68333333 0.58333333]\n",
      "SVM mean: 0.6434972677595628\n"
     ]
    }
   ],
   "source": [
    "from sklearn.model_selection import cross_val_score\n",
    "from sklearn.naive_bayes import GaussianNB\n",
    "from sklearn.linear_model import LogisticRegression\n",
    "from sklearn import tree\n",
    "from sklearn.neighbors import KNeighborsClassifier\n",
    "from sklearn.ensemble import RandomForestClassifier\n",
    "from sklearn.svm import SVC\n",
    "\n",
    "#we are running different models on dataset to see which one runs best\n",
    "#after we find the best, we will test old and new dataset\n",
    "#setting our y values and our x values for the model\n",
    "y = df['output']\n",
    "X = df.drop('output', axis=1)\n",
    "\n",
    "'''Gaussian Model ''' \n",
    "gnb = GaussianNB()\n",
    "cv = cross_val_score(gnb, X, y, cv=5)\n",
    "print(cv)\n",
    "print(\"Gaussian model mean: \"+ str(cv.mean()))\n",
    "\n",
    "'''Logistic Regression Model '''\n",
    "lr = LogisticRegression(max_iter=2000)\n",
    "cv = cross_val_score(lr, X, y, cv=5)\n",
    "print(cv)\n",
    "print(\"Log Regression mean: \" + str(cv.mean()))\n",
    "\n",
    "'''Decision Tree '''\n",
    "dt = tree.DecisionTreeClassifier(random_state=1)\n",
    "cv = cross_val_score(dt, X, y, cv=5)\n",
    "print(cv)\n",
    "print(\"Decision Tree mean: \" + str(cv.mean()))\n",
    "\n",
    "'''KNeighbors model'''\n",
    "knn = KNeighborsClassifier()\n",
    "cv = cross_val_score(knn, X, y, cv=5)\n",
    "print(cv)\n",
    "print(\"KNN mean: \" + str(cv.mean()))\n",
    "\n",
    "'''Random Forest Classifier'''\n",
    "rf = RandomForestClassifier(random_state = 1)\n",
    "cv = cross_val_score(rf, X, y, cv=5)\n",
    "print(cv)\n",
    "print(\"Random Forest mean: \" + str(cv.mean()))\n",
    "\n",
    "'''Support Vector Clustering'''\n",
    "svc = SVC(probability = True)\n",
    "cv = cross_val_score(svc, X, y, cv=5)\n",
    "print(cv)\n",
    "print(\"SVM mean: \" + str(cv.mean()))\n"
   ]
  },
  {
   "cell_type": "markdown",
   "id": "5ee59f56",
   "metadata": {},
   "source": [
    "### After running the models, we can see, the Log Regression gave the best results...\n"
   ]
  },
  {
   "cell_type": "code",
   "execution_count": 45,
   "id": "f77e1859",
   "metadata": {},
   "outputs": [
    {
     "name": "stdout",
     "output_type": "stream",
     "text": [
      "[0.81967213 0.90163934 0.83606557 0.88333333 0.75      ]\n",
      "Log Regression OG dataset mean: 0.8381420765027322\n",
      "[0.80327869 0.90163934 0.81967213 0.86666667 0.76666667]\n",
      "Log Regression New dataset mean: 0.831584699453552\n"
     ]
    }
   ],
   "source": [
    "#now we run the original dataset vs the edited dataset\n",
    "\n",
    "lr = LogisticRegression(max_iter=2000)\n",
    "cv = cross_val_score(lr, X, y, cv=5)\n",
    "print(cv)\n",
    "print(\"Log Regression OG dataset mean: \" + str(cv.mean()))\n",
    "\n",
    "df_new_y = df_new['output']\n",
    "df_new_X = df_new.drop('output', axis=1)\n",
    "\n",
    "lr = LogisticRegression(max_iter=2000)\n",
    "cv = cross_val_score(lr, df_new_X, df_new_y, cv=5)\n",
    "print(cv)\n",
    "print(\"Log Regression New dataset mean: \" + str(cv.mean()))\n",
    "\n",
    "#we can see that the new dataset gives us slightly better results/accuracy\n",
    "#in conclusion => we see that our new data gives us better results\n"
   ]
  },
  {
   "cell_type": "markdown",
   "id": "4da204d6",
   "metadata": {},
   "source": [
    "# SECTION 4\n",
    "## Data Preparation\n",
    "### since we don't have missing data, we just need to separate numerical variables and categorical variables"
   ]
  },
  {
   "cell_type": "code",
   "execution_count": 46,
   "id": "51480def",
   "metadata": {},
   "outputs": [],
   "source": [
    "#set the varaibles to numerical variales and categorical\n",
    "num_features = ['age', 'trtbps', 'chol', 'thalachh', 'oldpeak', 'caa', \n",
    "                'mhr_estimation']\n",
    "cat_features = ['sex', 'cp', 'restecg', 'exng', 'slp', \n",
    "                'thall', 'blood_pres_cat', 'cholestrol_cat', 'pres_chol_sum_cat', 'cat_sum']\n"
   ]
  },
  {
   "cell_type": "code",
   "execution_count": 47,
   "id": "b504aff2",
   "metadata": {},
   "outputs": [
    {
     "name": "stdout",
     "output_type": "stream",
     "text": [
      "(303, 17)\n",
      "(303,)\n",
      "(303, 17)\n",
      "(303,)\n"
     ]
    }
   ],
   "source": [
    "#now we need to make a matrix for the variables and the target for the model\n",
    "catBoostFeatures = df_new.drop('output', axis=1)\n",
    "catBoostResults = df_new['output'].astype('int')\n",
    "features = df_new.drop('output', axis=1)\n",
    "result = df_new['output'].astype('int')\n",
    "\n",
    "#make sure we have the correct amount of numbers and rows\n",
    "print(catBoostFeatures.shape)\n",
    "print(catBoostResults.shape)\n",
    "print(features.shape)\n",
    "print(result.shape)\n",
    "\n"
   ]
  },
  {
   "cell_type": "code",
   "execution_count": 48,
   "id": "a860a658",
   "metadata": {},
   "outputs": [
    {
     "data": {
      "text/html": [
       "<div>\n",
       "<style scoped>\n",
       "    .dataframe tbody tr th:only-of-type {\n",
       "        vertical-align: middle;\n",
       "    }\n",
       "\n",
       "    .dataframe tbody tr th {\n",
       "        vertical-align: top;\n",
       "    }\n",
       "\n",
       "    .dataframe thead th {\n",
       "        text-align: right;\n",
       "    }\n",
       "</style>\n",
       "<table border=\"1\" class=\"dataframe\">\n",
       "  <thead>\n",
       "    <tr style=\"text-align: right;\">\n",
       "      <th></th>\n",
       "      <th>age</th>\n",
       "      <th>trtbps</th>\n",
       "      <th>chol</th>\n",
       "      <th>thalachh</th>\n",
       "      <th>oldpeak</th>\n",
       "      <th>caa</th>\n",
       "      <th>mhr_estimation</th>\n",
       "      <th>sex_1.0</th>\n",
       "      <th>cp_1.0</th>\n",
       "      <th>cp_2.0</th>\n",
       "      <th>...</th>\n",
       "      <th>cholestrol_cat_2</th>\n",
       "      <th>pres_chol_sum_cat_1</th>\n",
       "      <th>pres_chol_sum_cat_2</th>\n",
       "      <th>pres_chol_sum_cat_3</th>\n",
       "      <th>pres_chol_sum_cat_4</th>\n",
       "      <th>cat_sum_1.0</th>\n",
       "      <th>cat_sum_2.0</th>\n",
       "      <th>cat_sum_3.0</th>\n",
       "      <th>cat_sum_4.0</th>\n",
       "      <th>cat_sum_5.0</th>\n",
       "    </tr>\n",
       "  </thead>\n",
       "  <tbody>\n",
       "    <tr>\n",
       "      <th>0</th>\n",
       "      <td>63.0</td>\n",
       "      <td>145.0</td>\n",
       "      <td>233.0</td>\n",
       "      <td>150.0</td>\n",
       "      <td>2.3</td>\n",
       "      <td>0.0</td>\n",
       "      <td>163.9</td>\n",
       "      <td>1</td>\n",
       "      <td>0</td>\n",
       "      <td>0</td>\n",
       "      <td>...</td>\n",
       "      <td>0</td>\n",
       "      <td>0</td>\n",
       "      <td>0</td>\n",
       "      <td>1</td>\n",
       "      <td>0</td>\n",
       "      <td>0</td>\n",
       "      <td>0</td>\n",
       "      <td>0</td>\n",
       "      <td>0</td>\n",
       "      <td>1</td>\n",
       "    </tr>\n",
       "    <tr>\n",
       "      <th>1</th>\n",
       "      <td>37.0</td>\n",
       "      <td>130.0</td>\n",
       "      <td>250.0</td>\n",
       "      <td>187.0</td>\n",
       "      <td>3.5</td>\n",
       "      <td>0.0</td>\n",
       "      <td>182.1</td>\n",
       "      <td>1</td>\n",
       "      <td>0</td>\n",
       "      <td>1</td>\n",
       "      <td>...</td>\n",
       "      <td>1</td>\n",
       "      <td>0</td>\n",
       "      <td>0</td>\n",
       "      <td>1</td>\n",
       "      <td>0</td>\n",
       "      <td>0</td>\n",
       "      <td>0</td>\n",
       "      <td>0</td>\n",
       "      <td>1</td>\n",
       "      <td>0</td>\n",
       "    </tr>\n",
       "    <tr>\n",
       "      <th>2</th>\n",
       "      <td>41.0</td>\n",
       "      <td>130.0</td>\n",
       "      <td>204.0</td>\n",
       "      <td>172.0</td>\n",
       "      <td>1.4</td>\n",
       "      <td>0.0</td>\n",
       "      <td>179.3</td>\n",
       "      <td>0</td>\n",
       "      <td>1</td>\n",
       "      <td>0</td>\n",
       "      <td>...</td>\n",
       "      <td>0</td>\n",
       "      <td>0</td>\n",
       "      <td>1</td>\n",
       "      <td>0</td>\n",
       "      <td>0</td>\n",
       "      <td>0</td>\n",
       "      <td>1</td>\n",
       "      <td>0</td>\n",
       "      <td>0</td>\n",
       "      <td>0</td>\n",
       "    </tr>\n",
       "    <tr>\n",
       "      <th>3</th>\n",
       "      <td>56.0</td>\n",
       "      <td>120.0</td>\n",
       "      <td>236.0</td>\n",
       "      <td>178.0</td>\n",
       "      <td>0.8</td>\n",
       "      <td>0.0</td>\n",
       "      <td>168.8</td>\n",
       "      <td>1</td>\n",
       "      <td>1</td>\n",
       "      <td>0</td>\n",
       "      <td>...</td>\n",
       "      <td>0</td>\n",
       "      <td>0</td>\n",
       "      <td>1</td>\n",
       "      <td>0</td>\n",
       "      <td>0</td>\n",
       "      <td>0</td>\n",
       "      <td>0</td>\n",
       "      <td>1</td>\n",
       "      <td>0</td>\n",
       "      <td>0</td>\n",
       "    </tr>\n",
       "    <tr>\n",
       "      <th>4</th>\n",
       "      <td>57.0</td>\n",
       "      <td>120.0</td>\n",
       "      <td>354.0</td>\n",
       "      <td>163.0</td>\n",
       "      <td>0.6</td>\n",
       "      <td>0.0</td>\n",
       "      <td>168.1</td>\n",
       "      <td>0</td>\n",
       "      <td>0</td>\n",
       "      <td>0</td>\n",
       "      <td>...</td>\n",
       "      <td>1</td>\n",
       "      <td>0</td>\n",
       "      <td>0</td>\n",
       "      <td>1</td>\n",
       "      <td>0</td>\n",
       "      <td>0</td>\n",
       "      <td>0</td>\n",
       "      <td>1</td>\n",
       "      <td>0</td>\n",
       "      <td>0</td>\n",
       "    </tr>\n",
       "  </tbody>\n",
       "</table>\n",
       "<p>5 rows × 31 columns</p>\n",
       "</div>"
      ],
      "text/plain": [
       "    age  trtbps   chol  thalachh  oldpeak  caa  mhr_estimation  sex_1.0  \\\n",
       "0  63.0   145.0  233.0     150.0      2.3  0.0           163.9        1   \n",
       "1  37.0   130.0  250.0     187.0      3.5  0.0           182.1        1   \n",
       "2  41.0   130.0  204.0     172.0      1.4  0.0           179.3        0   \n",
       "3  56.0   120.0  236.0     178.0      0.8  0.0           168.8        1   \n",
       "4  57.0   120.0  354.0     163.0      0.6  0.0           168.1        0   \n",
       "\n",
       "   cp_1.0  cp_2.0  ...  cholestrol_cat_2  pres_chol_sum_cat_1  \\\n",
       "0       0       0  ...                 0                    0   \n",
       "1       0       1  ...                 1                    0   \n",
       "2       1       0  ...                 0                    0   \n",
       "3       1       0  ...                 0                    0   \n",
       "4       0       0  ...                 1                    0   \n",
       "\n",
       "   pres_chol_sum_cat_2  pres_chol_sum_cat_3  pres_chol_sum_cat_4  cat_sum_1.0  \\\n",
       "0                    0                    1                    0            0   \n",
       "1                    0                    1                    0            0   \n",
       "2                    1                    0                    0            0   \n",
       "3                    1                    0                    0            0   \n",
       "4                    0                    1                    0            0   \n",
       "\n",
       "   cat_sum_2.0  cat_sum_3.0  cat_sum_4.0  cat_sum_5.0  \n",
       "0            0            0            0            1  \n",
       "1            0            0            1            0  \n",
       "2            1            0            0            0  \n",
       "3            0            1            0            0  \n",
       "4            0            1            0            0  \n",
       "\n",
       "[5 rows x 31 columns]"
      ]
     },
     "execution_count": 48,
     "metadata": {},
     "output_type": "execute_result"
    }
   ],
   "source": [
    "#create dummy variables for the categorical data\n",
    "features_dummy = pd.get_dummies(features, \n",
    "                                drop_first=True, \n",
    "                                columns=cat_features)\n",
    "\n",
    "features_dummy.head()"
   ]
  },
  {
   "cell_type": "code",
   "execution_count": 49,
   "id": "a9aa884a",
   "metadata": {},
   "outputs": [],
   "source": [
    "#GOING TO USE CATBOOST TO CREATE OUR PREDICTION MODEL\n",
    "#boosting = combining multiple weak models together to continously\n",
    "#get better results and end with a strong model\n",
    "\n",
    "#split the data into testing and training dataset\n",
    "X_train, X_test, y_train, y_test = train_test_split(features_dummy, \n",
    "                                                    result, \n",
    "                                                    test_size=0.2, \n",
    "                                                    random_state=42) \n",
    "\n",
    "#splitting 20 percent of dataset into the test sets\n"
   ]
  },
  {
   "cell_type": "code",
   "execution_count": 50,
   "id": "67f7f527",
   "metadata": {},
   "outputs": [
    {
     "name": "stdout",
     "output_type": "stream",
     "text": [
      "(242, 31)\n",
      "(61, 31)\n",
      "(242,)\n",
      "(61,)\n"
     ]
    }
   ],
   "source": [
    "#check the size of our new data\n",
    "print(X_train.shape)\n",
    "print(X_test.shape)\n",
    "print(y_train.shape) #the results for our train\n",
    "print(y_test.shape)  #the results for our test to compare to\n"
   ]
  },
  {
   "cell_type": "code",
   "execution_count": 51,
   "id": "0bc7d5ee",
   "metadata": {},
   "outputs": [
    {
     "data": {
      "text/html": [
       "<div>\n",
       "<style scoped>\n",
       "    .dataframe tbody tr th:only-of-type {\n",
       "        vertical-align: middle;\n",
       "    }\n",
       "\n",
       "    .dataframe tbody tr th {\n",
       "        vertical-align: top;\n",
       "    }\n",
       "\n",
       "    .dataframe thead th {\n",
       "        text-align: right;\n",
       "    }\n",
       "</style>\n",
       "<table border=\"1\" class=\"dataframe\">\n",
       "  <thead>\n",
       "    <tr style=\"text-align: right;\">\n",
       "      <th></th>\n",
       "      <th>age</th>\n",
       "      <th>trtbps</th>\n",
       "      <th>chol</th>\n",
       "      <th>thalachh</th>\n",
       "      <th>oldpeak</th>\n",
       "      <th>caa</th>\n",
       "      <th>mhr_estimation</th>\n",
       "      <th>sex_1.0</th>\n",
       "      <th>cp_1.0</th>\n",
       "      <th>cp_2.0</th>\n",
       "      <th>...</th>\n",
       "      <th>cholestrol_cat_2</th>\n",
       "      <th>pres_chol_sum_cat_1</th>\n",
       "      <th>pres_chol_sum_cat_2</th>\n",
       "      <th>pres_chol_sum_cat_3</th>\n",
       "      <th>pres_chol_sum_cat_4</th>\n",
       "      <th>cat_sum_1.0</th>\n",
       "      <th>cat_sum_2.0</th>\n",
       "      <th>cat_sum_3.0</th>\n",
       "      <th>cat_sum_4.0</th>\n",
       "      <th>cat_sum_5.0</th>\n",
       "    </tr>\n",
       "  </thead>\n",
       "  <tbody>\n",
       "    <tr>\n",
       "      <th>132</th>\n",
       "      <td>42.0</td>\n",
       "      <td>120.0</td>\n",
       "      <td>295.0</td>\n",
       "      <td>162.0</td>\n",
       "      <td>0.0</td>\n",
       "      <td>0.0</td>\n",
       "      <td>178.6</td>\n",
       "      <td>1</td>\n",
       "      <td>1</td>\n",
       "      <td>0</td>\n",
       "      <td>...</td>\n",
       "      <td>1</td>\n",
       "      <td>0</td>\n",
       "      <td>0</td>\n",
       "      <td>1</td>\n",
       "      <td>0</td>\n",
       "      <td>0</td>\n",
       "      <td>0</td>\n",
       "      <td>1</td>\n",
       "      <td>0</td>\n",
       "      <td>0</td>\n",
       "    </tr>\n",
       "    <tr>\n",
       "      <th>202</th>\n",
       "      <td>58.0</td>\n",
       "      <td>150.0</td>\n",
       "      <td>270.0</td>\n",
       "      <td>111.0</td>\n",
       "      <td>0.8</td>\n",
       "      <td>0.0</td>\n",
       "      <td>167.4</td>\n",
       "      <td>1</td>\n",
       "      <td>0</td>\n",
       "      <td>0</td>\n",
       "      <td>...</td>\n",
       "      <td>1</td>\n",
       "      <td>0</td>\n",
       "      <td>0</td>\n",
       "      <td>0</td>\n",
       "      <td>1</td>\n",
       "      <td>1</td>\n",
       "      <td>0</td>\n",
       "      <td>0</td>\n",
       "      <td>0</td>\n",
       "      <td>0</td>\n",
       "    </tr>\n",
       "    <tr>\n",
       "      <th>196</th>\n",
       "      <td>46.0</td>\n",
       "      <td>150.0</td>\n",
       "      <td>231.0</td>\n",
       "      <td>147.0</td>\n",
       "      <td>3.6</td>\n",
       "      <td>0.0</td>\n",
       "      <td>175.8</td>\n",
       "      <td>1</td>\n",
       "      <td>0</td>\n",
       "      <td>1</td>\n",
       "      <td>...</td>\n",
       "      <td>0</td>\n",
       "      <td>0</td>\n",
       "      <td>0</td>\n",
       "      <td>1</td>\n",
       "      <td>0</td>\n",
       "      <td>0</td>\n",
       "      <td>0</td>\n",
       "      <td>0</td>\n",
       "      <td>1</td>\n",
       "      <td>0</td>\n",
       "    </tr>\n",
       "    <tr>\n",
       "      <th>75</th>\n",
       "      <td>55.0</td>\n",
       "      <td>135.0</td>\n",
       "      <td>250.0</td>\n",
       "      <td>161.0</td>\n",
       "      <td>1.4</td>\n",
       "      <td>0.0</td>\n",
       "      <td>169.5</td>\n",
       "      <td>0</td>\n",
       "      <td>1</td>\n",
       "      <td>0</td>\n",
       "      <td>...</td>\n",
       "      <td>1</td>\n",
       "      <td>0</td>\n",
       "      <td>0</td>\n",
       "      <td>1</td>\n",
       "      <td>0</td>\n",
       "      <td>0</td>\n",
       "      <td>1</td>\n",
       "      <td>0</td>\n",
       "      <td>0</td>\n",
       "      <td>0</td>\n",
       "    </tr>\n",
       "    <tr>\n",
       "      <th>176</th>\n",
       "      <td>60.0</td>\n",
       "      <td>117.0</td>\n",
       "      <td>230.0</td>\n",
       "      <td>160.0</td>\n",
       "      <td>1.4</td>\n",
       "      <td>2.0</td>\n",
       "      <td>166.0</td>\n",
       "      <td>1</td>\n",
       "      <td>0</td>\n",
       "      <td>0</td>\n",
       "      <td>...</td>\n",
       "      <td>0</td>\n",
       "      <td>1</td>\n",
       "      <td>0</td>\n",
       "      <td>0</td>\n",
       "      <td>0</td>\n",
       "      <td>0</td>\n",
       "      <td>1</td>\n",
       "      <td>0</td>\n",
       "      <td>0</td>\n",
       "      <td>0</td>\n",
       "    </tr>\n",
       "  </tbody>\n",
       "</table>\n",
       "<p>5 rows × 31 columns</p>\n",
       "</div>"
      ],
      "text/plain": [
       "      age  trtbps   chol  thalachh  oldpeak  caa  mhr_estimation  sex_1.0  \\\n",
       "132  42.0   120.0  295.0     162.0      0.0  0.0           178.6        1   \n",
       "202  58.0   150.0  270.0     111.0      0.8  0.0           167.4        1   \n",
       "196  46.0   150.0  231.0     147.0      3.6  0.0           175.8        1   \n",
       "75   55.0   135.0  250.0     161.0      1.4  0.0           169.5        0   \n",
       "176  60.0   117.0  230.0     160.0      1.4  2.0           166.0        1   \n",
       "\n",
       "     cp_1.0  cp_2.0  ...  cholestrol_cat_2  pres_chol_sum_cat_1  \\\n",
       "132       1       0  ...                 1                    0   \n",
       "202       0       0  ...                 1                    0   \n",
       "196       0       1  ...                 0                    0   \n",
       "75        1       0  ...                 1                    0   \n",
       "176       0       0  ...                 0                    1   \n",
       "\n",
       "     pres_chol_sum_cat_2  pres_chol_sum_cat_3  pres_chol_sum_cat_4  \\\n",
       "132                    0                    1                    0   \n",
       "202                    0                    0                    1   \n",
       "196                    0                    1                    0   \n",
       "75                     0                    1                    0   \n",
       "176                    0                    0                    0   \n",
       "\n",
       "     cat_sum_1.0  cat_sum_2.0  cat_sum_3.0  cat_sum_4.0  cat_sum_5.0  \n",
       "132            0            0            1            0            0  \n",
       "202            1            0            0            0            0  \n",
       "196            0            0            0            1            0  \n",
       "75             0            1            0            0            0  \n",
       "176            0            1            0            0            0  \n",
       "\n",
       "[5 rows x 31 columns]"
      ]
     },
     "execution_count": 51,
     "metadata": {},
     "output_type": "execute_result"
    }
   ],
   "source": [
    "X_train.head()"
   ]
  },
  {
   "cell_type": "code",
   "execution_count": 52,
   "id": "e4179826",
   "metadata": {},
   "outputs": [
    {
     "data": {
      "text/html": [
       "<div>\n",
       "<style scoped>\n",
       "    .dataframe tbody tr th:only-of-type {\n",
       "        vertical-align: middle;\n",
       "    }\n",
       "\n",
       "    .dataframe tbody tr th {\n",
       "        vertical-align: top;\n",
       "    }\n",
       "\n",
       "    .dataframe thead th {\n",
       "        text-align: right;\n",
       "    }\n",
       "</style>\n",
       "<table border=\"1\" class=\"dataframe\">\n",
       "  <thead>\n",
       "    <tr style=\"text-align: right;\">\n",
       "      <th></th>\n",
       "      <th>age</th>\n",
       "      <th>trtbps</th>\n",
       "      <th>chol</th>\n",
       "      <th>thalachh</th>\n",
       "      <th>oldpeak</th>\n",
       "      <th>caa</th>\n",
       "      <th>mhr_estimation</th>\n",
       "      <th>sex_1.0</th>\n",
       "      <th>cp_1.0</th>\n",
       "      <th>cp_2.0</th>\n",
       "      <th>...</th>\n",
       "      <th>cholestrol_cat_2</th>\n",
       "      <th>pres_chol_sum_cat_1</th>\n",
       "      <th>pres_chol_sum_cat_2</th>\n",
       "      <th>pres_chol_sum_cat_3</th>\n",
       "      <th>pres_chol_sum_cat_4</th>\n",
       "      <th>cat_sum_1.0</th>\n",
       "      <th>cat_sum_2.0</th>\n",
       "      <th>cat_sum_3.0</th>\n",
       "      <th>cat_sum_4.0</th>\n",
       "      <th>cat_sum_5.0</th>\n",
       "    </tr>\n",
       "  </thead>\n",
       "  <tbody>\n",
       "    <tr>\n",
       "      <th>179</th>\n",
       "      <td>57.0</td>\n",
       "      <td>150.0</td>\n",
       "      <td>276.0</td>\n",
       "      <td>112.0</td>\n",
       "      <td>0.6</td>\n",
       "      <td>1.0</td>\n",
       "      <td>168.1</td>\n",
       "      <td>1</td>\n",
       "      <td>0</td>\n",
       "      <td>0</td>\n",
       "      <td>...</td>\n",
       "      <td>1</td>\n",
       "      <td>0</td>\n",
       "      <td>0</td>\n",
       "      <td>0</td>\n",
       "      <td>1</td>\n",
       "      <td>0</td>\n",
       "      <td>0</td>\n",
       "      <td>1</td>\n",
       "      <td>0</td>\n",
       "      <td>0</td>\n",
       "    </tr>\n",
       "    <tr>\n",
       "      <th>228</th>\n",
       "      <td>59.0</td>\n",
       "      <td>170.0</td>\n",
       "      <td>288.0</td>\n",
       "      <td>159.0</td>\n",
       "      <td>0.2</td>\n",
       "      <td>0.0</td>\n",
       "      <td>166.7</td>\n",
       "      <td>1</td>\n",
       "      <td>0</td>\n",
       "      <td>0</td>\n",
       "      <td>...</td>\n",
       "      <td>1</td>\n",
       "      <td>0</td>\n",
       "      <td>0</td>\n",
       "      <td>0</td>\n",
       "      <td>1</td>\n",
       "      <td>0</td>\n",
       "      <td>0</td>\n",
       "      <td>1</td>\n",
       "      <td>0</td>\n",
       "      <td>0</td>\n",
       "    </tr>\n",
       "    <tr>\n",
       "      <th>111</th>\n",
       "      <td>57.0</td>\n",
       "      <td>150.0</td>\n",
       "      <td>126.0</td>\n",
       "      <td>173.0</td>\n",
       "      <td>0.2</td>\n",
       "      <td>1.0</td>\n",
       "      <td>168.1</td>\n",
       "      <td>1</td>\n",
       "      <td>0</td>\n",
       "      <td>1</td>\n",
       "      <td>...</td>\n",
       "      <td>0</td>\n",
       "      <td>0</td>\n",
       "      <td>1</td>\n",
       "      <td>0</td>\n",
       "      <td>0</td>\n",
       "      <td>0</td>\n",
       "      <td>0</td>\n",
       "      <td>1</td>\n",
       "      <td>0</td>\n",
       "      <td>0</td>\n",
       "    </tr>\n",
       "    <tr>\n",
       "      <th>246</th>\n",
       "      <td>56.0</td>\n",
       "      <td>134.0</td>\n",
       "      <td>409.0</td>\n",
       "      <td>150.0</td>\n",
       "      <td>1.9</td>\n",
       "      <td>2.0</td>\n",
       "      <td>168.8</td>\n",
       "      <td>0</td>\n",
       "      <td>0</td>\n",
       "      <td>0</td>\n",
       "      <td>...</td>\n",
       "      <td>1</td>\n",
       "      <td>0</td>\n",
       "      <td>0</td>\n",
       "      <td>1</td>\n",
       "      <td>0</td>\n",
       "      <td>1</td>\n",
       "      <td>0</td>\n",
       "      <td>0</td>\n",
       "      <td>0</td>\n",
       "      <td>0</td>\n",
       "    </tr>\n",
       "    <tr>\n",
       "      <th>60</th>\n",
       "      <td>71.0</td>\n",
       "      <td>110.0</td>\n",
       "      <td>265.0</td>\n",
       "      <td>130.0</td>\n",
       "      <td>0.0</td>\n",
       "      <td>1.0</td>\n",
       "      <td>158.3</td>\n",
       "      <td>0</td>\n",
       "      <td>0</td>\n",
       "      <td>1</td>\n",
       "      <td>...</td>\n",
       "      <td>1</td>\n",
       "      <td>0</td>\n",
       "      <td>1</td>\n",
       "      <td>0</td>\n",
       "      <td>0</td>\n",
       "      <td>0</td>\n",
       "      <td>0</td>\n",
       "      <td>1</td>\n",
       "      <td>0</td>\n",
       "      <td>0</td>\n",
       "    </tr>\n",
       "  </tbody>\n",
       "</table>\n",
       "<p>5 rows × 31 columns</p>\n",
       "</div>"
      ],
      "text/plain": [
       "      age  trtbps   chol  thalachh  oldpeak  caa  mhr_estimation  sex_1.0  \\\n",
       "179  57.0   150.0  276.0     112.0      0.6  1.0           168.1        1   \n",
       "228  59.0   170.0  288.0     159.0      0.2  0.0           166.7        1   \n",
       "111  57.0   150.0  126.0     173.0      0.2  1.0           168.1        1   \n",
       "246  56.0   134.0  409.0     150.0      1.9  2.0           168.8        0   \n",
       "60   71.0   110.0  265.0     130.0      0.0  1.0           158.3        0   \n",
       "\n",
       "     cp_1.0  cp_2.0  ...  cholestrol_cat_2  pres_chol_sum_cat_1  \\\n",
       "179       0       0  ...                 1                    0   \n",
       "228       0       0  ...                 1                    0   \n",
       "111       0       1  ...                 0                    0   \n",
       "246       0       0  ...                 1                    0   \n",
       "60        0       1  ...                 1                    0   \n",
       "\n",
       "     pres_chol_sum_cat_2  pres_chol_sum_cat_3  pres_chol_sum_cat_4  \\\n",
       "179                    0                    0                    1   \n",
       "228                    0                    0                    1   \n",
       "111                    1                    0                    0   \n",
       "246                    0                    1                    0   \n",
       "60                     1                    0                    0   \n",
       "\n",
       "     cat_sum_1.0  cat_sum_2.0  cat_sum_3.0  cat_sum_4.0  cat_sum_5.0  \n",
       "179            0            0            1            0            0  \n",
       "228            0            0            1            0            0  \n",
       "111            0            0            1            0            0  \n",
       "246            1            0            0            0            0  \n",
       "60             0            0            1            0            0  \n",
       "\n",
       "[5 rows x 31 columns]"
      ]
     },
     "execution_count": 52,
     "metadata": {},
     "output_type": "execute_result"
    }
   ],
   "source": [
    "X_test.head()"
   ]
  },
  {
   "cell_type": "code",
   "execution_count": 53,
   "id": "1b09f08a",
   "metadata": {},
   "outputs": [
    {
     "name": "stderr",
     "output_type": "stream",
     "text": [
      "<ipython-input-53-db1a7901d749>:3: SettingWithCopyWarning: \n",
      "A value is trying to be set on a copy of a slice from a DataFrame.\n",
      "Try using .loc[row_indexer,col_indexer] = value instead\n",
      "\n",
      "See the caveats in the documentation: https://pandas.pydata.org/pandas-docs/stable/user_guide/indexing.html#returning-a-view-versus-a-copy\n",
      "  X_train[num_features] = scaler.fit_transform(X_train[num_features])\n",
      "/Users/devinheng/opt/anaconda3/lib/python3.8/site-packages/pandas/core/indexing.py:1738: SettingWithCopyWarning: \n",
      "A value is trying to be set on a copy of a slice from a DataFrame.\n",
      "Try using .loc[row_indexer,col_indexer] = value instead\n",
      "\n",
      "See the caveats in the documentation: https://pandas.pydata.org/pandas-docs/stable/user_guide/indexing.html#returning-a-view-versus-a-copy\n",
      "  self._setitem_single_column(loc, value[:, i].tolist(), pi)\n",
      "<ipython-input-53-db1a7901d749>:4: SettingWithCopyWarning: \n",
      "A value is trying to be set on a copy of a slice from a DataFrame.\n",
      "Try using .loc[row_indexer,col_indexer] = value instead\n",
      "\n",
      "See the caveats in the documentation: https://pandas.pydata.org/pandas-docs/stable/user_guide/indexing.html#returning-a-view-versus-a-copy\n",
      "  X_test[num_features] = scaler.transform(X_test[num_features])\n",
      "/Users/devinheng/opt/anaconda3/lib/python3.8/site-packages/pandas/core/indexing.py:1738: SettingWithCopyWarning: \n",
      "A value is trying to be set on a copy of a slice from a DataFrame.\n",
      "Try using .loc[row_indexer,col_indexer] = value instead\n",
      "\n",
      "See the caveats in the documentation: https://pandas.pydata.org/pandas-docs/stable/user_guide/indexing.html#returning-a-view-versus-a-copy\n",
      "  self._setitem_single_column(loc, value[:, i].tolist(), pi)\n"
     ]
    }
   ],
   "source": [
    "#next we need to scale our data using standardization\n",
    "scaler = StandardScaler()\n",
    "X_train[num_features] = scaler.fit_transform(X_train[num_features])\n",
    "X_test[num_features] = scaler.transform(X_test[num_features])\n"
   ]
  },
  {
   "cell_type": "code",
   "execution_count": 54,
   "id": "092fd234",
   "metadata": {},
   "outputs": [
    {
     "data": {
      "text/html": [
       "<div>\n",
       "<style scoped>\n",
       "    .dataframe tbody tr th:only-of-type {\n",
       "        vertical-align: middle;\n",
       "    }\n",
       "\n",
       "    .dataframe tbody tr th {\n",
       "        vertical-align: top;\n",
       "    }\n",
       "\n",
       "    .dataframe thead th {\n",
       "        text-align: right;\n",
       "    }\n",
       "</style>\n",
       "<table border=\"1\" class=\"dataframe\">\n",
       "  <thead>\n",
       "    <tr style=\"text-align: right;\">\n",
       "      <th></th>\n",
       "      <th>age</th>\n",
       "      <th>trtbps</th>\n",
       "      <th>chol</th>\n",
       "      <th>thalachh</th>\n",
       "      <th>oldpeak</th>\n",
       "      <th>caa</th>\n",
       "      <th>mhr_estimation</th>\n",
       "      <th>sex_1.0</th>\n",
       "      <th>cp_1.0</th>\n",
       "      <th>cp_2.0</th>\n",
       "      <th>...</th>\n",
       "      <th>cholestrol_cat_2</th>\n",
       "      <th>pres_chol_sum_cat_1</th>\n",
       "      <th>pres_chol_sum_cat_2</th>\n",
       "      <th>pres_chol_sum_cat_3</th>\n",
       "      <th>pres_chol_sum_cat_4</th>\n",
       "      <th>cat_sum_1.0</th>\n",
       "      <th>cat_sum_2.0</th>\n",
       "      <th>cat_sum_3.0</th>\n",
       "      <th>cat_sum_4.0</th>\n",
       "      <th>cat_sum_5.0</th>\n",
       "    </tr>\n",
       "  </thead>\n",
       "  <tbody>\n",
       "    <tr>\n",
       "      <th>132</th>\n",
       "      <td>-1.356798</td>\n",
       "      <td>-0.616856</td>\n",
       "      <td>0.914034</td>\n",
       "      <td>0.532781</td>\n",
       "      <td>-0.920864</td>\n",
       "      <td>-0.689701</td>\n",
       "      <td>1.356798</td>\n",
       "      <td>1</td>\n",
       "      <td>1</td>\n",
       "      <td>0</td>\n",
       "      <td>...</td>\n",
       "      <td>1</td>\n",
       "      <td>0</td>\n",
       "      <td>0</td>\n",
       "      <td>1</td>\n",
       "      <td>0</td>\n",
       "      <td>0</td>\n",
       "      <td>0</td>\n",
       "      <td>1</td>\n",
       "      <td>0</td>\n",
       "      <td>0</td>\n",
       "    </tr>\n",
       "    <tr>\n",
       "      <th>202</th>\n",
       "      <td>0.385086</td>\n",
       "      <td>1.169491</td>\n",
       "      <td>0.439527</td>\n",
       "      <td>-1.753582</td>\n",
       "      <td>-0.193787</td>\n",
       "      <td>-0.689701</td>\n",
       "      <td>-0.385086</td>\n",
       "      <td>1</td>\n",
       "      <td>0</td>\n",
       "      <td>0</td>\n",
       "      <td>...</td>\n",
       "      <td>1</td>\n",
       "      <td>0</td>\n",
       "      <td>0</td>\n",
       "      <td>0</td>\n",
       "      <td>1</td>\n",
       "      <td>1</td>\n",
       "      <td>0</td>\n",
       "      <td>0</td>\n",
       "      <td>0</td>\n",
       "      <td>0</td>\n",
       "    </tr>\n",
       "    <tr>\n",
       "      <th>196</th>\n",
       "      <td>-0.921327</td>\n",
       "      <td>1.169491</td>\n",
       "      <td>-0.300704</td>\n",
       "      <td>-0.139679</td>\n",
       "      <td>2.350982</td>\n",
       "      <td>-0.689701</td>\n",
       "      <td>0.921327</td>\n",
       "      <td>1</td>\n",
       "      <td>0</td>\n",
       "      <td>1</td>\n",
       "      <td>...</td>\n",
       "      <td>0</td>\n",
       "      <td>0</td>\n",
       "      <td>0</td>\n",
       "      <td>1</td>\n",
       "      <td>0</td>\n",
       "      <td>0</td>\n",
       "      <td>0</td>\n",
       "      <td>0</td>\n",
       "      <td>1</td>\n",
       "      <td>0</td>\n",
       "    </tr>\n",
       "    <tr>\n",
       "      <th>75</th>\n",
       "      <td>0.058483</td>\n",
       "      <td>0.276318</td>\n",
       "      <td>0.059921</td>\n",
       "      <td>0.487950</td>\n",
       "      <td>0.351521</td>\n",
       "      <td>-0.689701</td>\n",
       "      <td>-0.058483</td>\n",
       "      <td>0</td>\n",
       "      <td>1</td>\n",
       "      <td>0</td>\n",
       "      <td>...</td>\n",
       "      <td>1</td>\n",
       "      <td>0</td>\n",
       "      <td>0</td>\n",
       "      <td>1</td>\n",
       "      <td>0</td>\n",
       "      <td>0</td>\n",
       "      <td>1</td>\n",
       "      <td>0</td>\n",
       "      <td>0</td>\n",
       "      <td>0</td>\n",
       "    </tr>\n",
       "    <tr>\n",
       "      <th>176</th>\n",
       "      <td>0.602822</td>\n",
       "      <td>-0.795490</td>\n",
       "      <td>-0.319684</td>\n",
       "      <td>0.443119</td>\n",
       "      <td>0.351521</td>\n",
       "      <td>1.333421</td>\n",
       "      <td>-0.602822</td>\n",
       "      <td>1</td>\n",
       "      <td>0</td>\n",
       "      <td>0</td>\n",
       "      <td>...</td>\n",
       "      <td>0</td>\n",
       "      <td>1</td>\n",
       "      <td>0</td>\n",
       "      <td>0</td>\n",
       "      <td>0</td>\n",
       "      <td>0</td>\n",
       "      <td>1</td>\n",
       "      <td>0</td>\n",
       "      <td>0</td>\n",
       "      <td>0</td>\n",
       "    </tr>\n",
       "  </tbody>\n",
       "</table>\n",
       "<p>5 rows × 31 columns</p>\n",
       "</div>"
      ],
      "text/plain": [
       "          age    trtbps      chol  thalachh   oldpeak       caa  \\\n",
       "132 -1.356798 -0.616856  0.914034  0.532781 -0.920864 -0.689701   \n",
       "202  0.385086  1.169491  0.439527 -1.753582 -0.193787 -0.689701   \n",
       "196 -0.921327  1.169491 -0.300704 -0.139679  2.350982 -0.689701   \n",
       "75   0.058483  0.276318  0.059921  0.487950  0.351521 -0.689701   \n",
       "176  0.602822 -0.795490 -0.319684  0.443119  0.351521  1.333421   \n",
       "\n",
       "     mhr_estimation  sex_1.0  cp_1.0  cp_2.0  ...  cholestrol_cat_2  \\\n",
       "132        1.356798        1       1       0  ...                 1   \n",
       "202       -0.385086        1       0       0  ...                 1   \n",
       "196        0.921327        1       0       1  ...                 0   \n",
       "75        -0.058483        0       1       0  ...                 1   \n",
       "176       -0.602822        1       0       0  ...                 0   \n",
       "\n",
       "     pres_chol_sum_cat_1  pres_chol_sum_cat_2  pres_chol_sum_cat_3  \\\n",
       "132                    0                    0                    1   \n",
       "202                    0                    0                    0   \n",
       "196                    0                    0                    1   \n",
       "75                     0                    0                    1   \n",
       "176                    1                    0                    0   \n",
       "\n",
       "     pres_chol_sum_cat_4  cat_sum_1.0  cat_sum_2.0  cat_sum_3.0  cat_sum_4.0  \\\n",
       "132                    0            0            0            1            0   \n",
       "202                    1            1            0            0            0   \n",
       "196                    0            0            0            0            1   \n",
       "75                     0            0            1            0            0   \n",
       "176                    0            0            1            0            0   \n",
       "\n",
       "     cat_sum_5.0  \n",
       "132            0  \n",
       "202            0  \n",
       "196            0  \n",
       "75             0  \n",
       "176            0  \n",
       "\n",
       "[5 rows x 31 columns]"
      ]
     },
     "execution_count": 54,
     "metadata": {},
     "output_type": "execute_result"
    }
   ],
   "source": [
    "X_train.head()"
   ]
  },
  {
   "cell_type": "code",
   "execution_count": 55,
   "id": "678d2507",
   "metadata": {},
   "outputs": [
    {
     "data": {
      "text/html": [
       "<div>\n",
       "<style scoped>\n",
       "    .dataframe tbody tr th:only-of-type {\n",
       "        vertical-align: middle;\n",
       "    }\n",
       "\n",
       "    .dataframe tbody tr th {\n",
       "        vertical-align: top;\n",
       "    }\n",
       "\n",
       "    .dataframe thead th {\n",
       "        text-align: right;\n",
       "    }\n",
       "</style>\n",
       "<table border=\"1\" class=\"dataframe\">\n",
       "  <thead>\n",
       "    <tr style=\"text-align: right;\">\n",
       "      <th></th>\n",
       "      <th>age</th>\n",
       "      <th>trtbps</th>\n",
       "      <th>chol</th>\n",
       "      <th>thalachh</th>\n",
       "      <th>oldpeak</th>\n",
       "      <th>caa</th>\n",
       "      <th>mhr_estimation</th>\n",
       "      <th>sex_1.0</th>\n",
       "      <th>cp_1.0</th>\n",
       "      <th>cp_2.0</th>\n",
       "      <th>...</th>\n",
       "      <th>cholestrol_cat_2</th>\n",
       "      <th>pres_chol_sum_cat_1</th>\n",
       "      <th>pres_chol_sum_cat_2</th>\n",
       "      <th>pres_chol_sum_cat_3</th>\n",
       "      <th>pres_chol_sum_cat_4</th>\n",
       "      <th>cat_sum_1.0</th>\n",
       "      <th>cat_sum_2.0</th>\n",
       "      <th>cat_sum_3.0</th>\n",
       "      <th>cat_sum_4.0</th>\n",
       "      <th>cat_sum_5.0</th>\n",
       "    </tr>\n",
       "  </thead>\n",
       "  <tbody>\n",
       "    <tr>\n",
       "      <th>179</th>\n",
       "      <td>0.276218</td>\n",
       "      <td>1.169491</td>\n",
       "      <td>0.553408</td>\n",
       "      <td>-1.708752</td>\n",
       "      <td>-0.375556</td>\n",
       "      <td>0.321860</td>\n",
       "      <td>-0.276218</td>\n",
       "      <td>1</td>\n",
       "      <td>0</td>\n",
       "      <td>0</td>\n",
       "      <td>...</td>\n",
       "      <td>1</td>\n",
       "      <td>0</td>\n",
       "      <td>0</td>\n",
       "      <td>0</td>\n",
       "      <td>1</td>\n",
       "      <td>0</td>\n",
       "      <td>0</td>\n",
       "      <td>1</td>\n",
       "      <td>0</td>\n",
       "      <td>0</td>\n",
       "    </tr>\n",
       "    <tr>\n",
       "      <th>228</th>\n",
       "      <td>0.493954</td>\n",
       "      <td>2.360389</td>\n",
       "      <td>0.781172</td>\n",
       "      <td>0.398289</td>\n",
       "      <td>-0.739095</td>\n",
       "      <td>-0.689701</td>\n",
       "      <td>-0.493954</td>\n",
       "      <td>1</td>\n",
       "      <td>0</td>\n",
       "      <td>0</td>\n",
       "      <td>...</td>\n",
       "      <td>1</td>\n",
       "      <td>0</td>\n",
       "      <td>0</td>\n",
       "      <td>0</td>\n",
       "      <td>1</td>\n",
       "      <td>0</td>\n",
       "      <td>0</td>\n",
       "      <td>1</td>\n",
       "      <td>0</td>\n",
       "      <td>0</td>\n",
       "    </tr>\n",
       "    <tr>\n",
       "      <th>111</th>\n",
       "      <td>0.276218</td>\n",
       "      <td>1.169491</td>\n",
       "      <td>-2.293633</td>\n",
       "      <td>1.025918</td>\n",
       "      <td>-0.739095</td>\n",
       "      <td>0.321860</td>\n",
       "      <td>-0.276218</td>\n",
       "      <td>1</td>\n",
       "      <td>0</td>\n",
       "      <td>1</td>\n",
       "      <td>...</td>\n",
       "      <td>0</td>\n",
       "      <td>0</td>\n",
       "      <td>1</td>\n",
       "      <td>0</td>\n",
       "      <td>0</td>\n",
       "      <td>0</td>\n",
       "      <td>0</td>\n",
       "      <td>1</td>\n",
       "      <td>0</td>\n",
       "      <td>0</td>\n",
       "    </tr>\n",
       "    <tr>\n",
       "      <th>246</th>\n",
       "      <td>0.167350</td>\n",
       "      <td>0.216773</td>\n",
       "      <td>3.077785</td>\n",
       "      <td>-0.005187</td>\n",
       "      <td>0.805944</td>\n",
       "      <td>1.333421</td>\n",
       "      <td>-0.167350</td>\n",
       "      <td>0</td>\n",
       "      <td>0</td>\n",
       "      <td>0</td>\n",
       "      <td>...</td>\n",
       "      <td>1</td>\n",
       "      <td>0</td>\n",
       "      <td>0</td>\n",
       "      <td>1</td>\n",
       "      <td>0</td>\n",
       "      <td>1</td>\n",
       "      <td>0</td>\n",
       "      <td>0</td>\n",
       "      <td>0</td>\n",
       "      <td>0</td>\n",
       "    </tr>\n",
       "    <tr>\n",
       "      <th>60</th>\n",
       "      <td>1.800367</td>\n",
       "      <td>-1.212304</td>\n",
       "      <td>0.344625</td>\n",
       "      <td>-0.901800</td>\n",
       "      <td>-0.920864</td>\n",
       "      <td>0.321860</td>\n",
       "      <td>-1.800367</td>\n",
       "      <td>0</td>\n",
       "      <td>0</td>\n",
       "      <td>1</td>\n",
       "      <td>...</td>\n",
       "      <td>1</td>\n",
       "      <td>0</td>\n",
       "      <td>1</td>\n",
       "      <td>0</td>\n",
       "      <td>0</td>\n",
       "      <td>0</td>\n",
       "      <td>0</td>\n",
       "      <td>1</td>\n",
       "      <td>0</td>\n",
       "      <td>0</td>\n",
       "    </tr>\n",
       "  </tbody>\n",
       "</table>\n",
       "<p>5 rows × 31 columns</p>\n",
       "</div>"
      ],
      "text/plain": [
       "          age    trtbps      chol  thalachh   oldpeak       caa  \\\n",
       "179  0.276218  1.169491  0.553408 -1.708752 -0.375556  0.321860   \n",
       "228  0.493954  2.360389  0.781172  0.398289 -0.739095 -0.689701   \n",
       "111  0.276218  1.169491 -2.293633  1.025918 -0.739095  0.321860   \n",
       "246  0.167350  0.216773  3.077785 -0.005187  0.805944  1.333421   \n",
       "60   1.800367 -1.212304  0.344625 -0.901800 -0.920864  0.321860   \n",
       "\n",
       "     mhr_estimation  sex_1.0  cp_1.0  cp_2.0  ...  cholestrol_cat_2  \\\n",
       "179       -0.276218        1       0       0  ...                 1   \n",
       "228       -0.493954        1       0       0  ...                 1   \n",
       "111       -0.276218        1       0       1  ...                 0   \n",
       "246       -0.167350        0       0       0  ...                 1   \n",
       "60        -1.800367        0       0       1  ...                 1   \n",
       "\n",
       "     pres_chol_sum_cat_1  pres_chol_sum_cat_2  pres_chol_sum_cat_3  \\\n",
       "179                    0                    0                    0   \n",
       "228                    0                    0                    0   \n",
       "111                    0                    1                    0   \n",
       "246                    0                    0                    1   \n",
       "60                     0                    1                    0   \n",
       "\n",
       "     pres_chol_sum_cat_4  cat_sum_1.0  cat_sum_2.0  cat_sum_3.0  cat_sum_4.0  \\\n",
       "179                    1            0            0            1            0   \n",
       "228                    1            0            0            1            0   \n",
       "111                    0            0            0            1            0   \n",
       "246                    0            1            0            0            0   \n",
       "60                     0            0            0            1            0   \n",
       "\n",
       "     cat_sum_5.0  \n",
       "179            0  \n",
       "228            0  \n",
       "111            0  \n",
       "246            0  \n",
       "60             0  \n",
       "\n",
       "[5 rows x 31 columns]"
      ]
     },
     "execution_count": 55,
     "metadata": {},
     "output_type": "execute_result"
    }
   ],
   "source": [
    "X_test.head()"
   ]
  },
  {
   "cell_type": "markdown",
   "id": "e74d3533",
   "metadata": {},
   "source": [
    "# SECTION 5\n",
    "## Modeling Section\n",
    "### now here we will plug in our data into our models to test and run predictions"
   ]
  },
  {
   "cell_type": "markdown",
   "id": "6ae5f331",
   "metadata": {},
   "source": [
    "### SVM Classifier"
   ]
  },
  {
   "cell_type": "code",
   "execution_count": 56,
   "id": "8b4dc7b3",
   "metadata": {},
   "outputs": [
    {
     "data": {
      "text/plain": [
       "RandomizedSearchCV(cv=5, estimator=SVC(probability=True, random_state=42),\n",
       "                   n_iter=75,\n",
       "                   param_distributions={'C': <scipy.stats._distn_infrastructure.rv_frozen object at 0x7fbe78f89730>,\n",
       "                                        'gamma': <scipy.stats._distn_infrastructure.rv_frozen object at 0x7fbe63516e20>,\n",
       "                                        'kernel': ['rbf', 'poly']},\n",
       "                   random_state=42, scoring='f1')"
      ]
     },
     "execution_count": 56,
     "metadata": {},
     "output_type": "execute_result"
    }
   ],
   "source": [
    "#HERE WE ARE USING SVM CLASSIFIER\n",
    "#TUNING C, Kernel, and gamma\n",
    "\n",
    "#setting up the model\n",
    "parameters_svc = dict (\n",
    "    C = loguniform(0.0001, 20),\n",
    "    kernel=['rbf', 'poly'],\n",
    "    gamma = loguniform(0.0001, 20))\n",
    "\n",
    "random_search_svc = RandomizedSearchCV(\n",
    "    estimator=SVC(probability=True, random_state=42),\n",
    "    param_distributions=parameters_svc,\n",
    "    n_iter=75,\n",
    "    scoring='f1',\n",
    "    cv=5,\n",
    "    random_state=42\n",
    ")\n",
    "random_search_svc.fit(X_train, y_train)\n"
   ]
  },
  {
   "cell_type": "code",
   "execution_count": 57,
   "id": "b4f4d554",
   "metadata": {},
   "outputs": [
    {
     "data": {
      "text/plain": [
       "0.8325186005766767"
      ]
     },
     "execution_count": 57,
     "metadata": {},
     "output_type": "execute_result"
    }
   ],
   "source": [
    "#running a test on the model\n",
    "svc_cv_f1 = random_search_svc.best_score_\n",
    "svc_cv_f1"
   ]
  },
  {
   "cell_type": "code",
   "execution_count": 58,
   "id": "2c09d1ca",
   "metadata": {},
   "outputs": [
    {
     "data": {
      "text/plain": [
       "{'C': 1.9551916197232408, 'gamma': 0.007051619289571366, 'kernel': 'rbf'}"
      ]
     },
     "execution_count": 58,
     "metadata": {},
     "output_type": "execute_result"
    }
   ],
   "source": [
    "#getting back what would have been the best parameters to actually add\n",
    "random_search_svc.best_params_\n"
   ]
  },
  {
   "cell_type": "code",
   "execution_count": 59,
   "id": "b09386d1",
   "metadata": {},
   "outputs": [
    {
     "data": {
      "text/plain": [
       "SVC(C=1.9551916197232408, gamma=0.007051619289571366, probability=True,\n",
       "    random_state=42)"
      ]
     },
     "execution_count": 59,
     "metadata": {},
     "output_type": "execute_result"
    }
   ],
   "source": [
    "#getting what the best estimator for this model would have been\n",
    "best_svc = random_search_svc.best_estimator_\n",
    "best_svc"
   ]
  },
  {
   "cell_type": "markdown",
   "id": "73d82a5b",
   "metadata": {},
   "source": [
    "### Random Forest Classifier"
   ]
  },
  {
   "cell_type": "code",
   "execution_count": 60,
   "id": "65152587",
   "metadata": {},
   "outputs": [
    {
     "name": "stdout",
     "output_type": "stream",
     "text": [
      "Fitting 5 folds for each of 75 candidates, totalling 375 fits\n"
     ]
    },
    {
     "data": {
      "text/plain": [
       "RandomizedSearchCV(cv=5, estimator=RandomForestClassifier(random_state=42),\n",
       "                   n_iter=75,\n",
       "                   param_distributions={'max_depth': range(4, 30),\n",
       "                                        'max_features': range(2, 31),\n",
       "                                        'min_samples_leaf': range(1, 10),\n",
       "                                        'min_samples_split': range(2, 10),\n",
       "                                        'n_estimators': range(5, 1000)},\n",
       "                   random_state=42, scoring='f1', verbose=1)"
      ]
     },
     "execution_count": 60,
     "metadata": {},
     "output_type": "execute_result"
    }
   ],
   "source": [
    "#setting up the model and tuning the parameters\n",
    "parameters_rf = dict(\n",
    "    n_estimators=range(5, 1000),\n",
    "    max_depth=range(4, 30),\n",
    "    min_samples_split=range(2, 10),\n",
    "    min_samples_leaf=range(1, 10),\n",
    "    max_features=range(2, X_train.shape[1])\n",
    ")\n",
    "\n",
    "random_search_rf = RandomizedSearchCV(\n",
    "    estimator=RandomForestClassifier(random_state=42),\n",
    "    param_distributions=parameters_rf,\n",
    "    n_iter=75,\n",
    "    scoring='f1',\n",
    "    cv=5,\n",
    "    random_state=42,\n",
    "    verbose=1\n",
    ")\n",
    "random_search_rf.fit(X_train, y_train)"
   ]
  },
  {
   "cell_type": "code",
   "execution_count": 71,
   "id": "6773acf2",
   "metadata": {},
   "outputs": [
    {
     "data": {
      "text/plain": [
       "0.8529167264258541"
      ]
     },
     "execution_count": 71,
     "metadata": {},
     "output_type": "execute_result"
    }
   ],
   "source": [
    "#getting the best score for this model\n",
    "rf_cv_f1 = random_search_rf.best_score_\n",
    "rf_cv_f1\n"
   ]
  },
  {
   "cell_type": "code",
   "execution_count": 72,
   "id": "a5682334",
   "metadata": {},
   "outputs": [
    {
     "data": {
      "text/plain": [
       "{'n_estimators': 98,\n",
       " 'min_samples_split': 2,\n",
       " 'min_samples_leaf': 2,\n",
       " 'max_features': 7,\n",
       " 'max_depth': 6}"
      ]
     },
     "execution_count": 72,
     "metadata": {},
     "output_type": "execute_result"
    }
   ],
   "source": [
    "#getting the best paramters for the model\n",
    "random_search_rf.best_params_\n"
   ]
  },
  {
   "cell_type": "code",
   "execution_count": 73,
   "id": "91946055",
   "metadata": {},
   "outputs": [
    {
     "data": {
      "text/plain": [
       "RandomForestClassifier(max_depth=6, max_features=7, min_samples_leaf=2,\n",
       "                       n_estimators=98, random_state=42)"
      ]
     },
     "execution_count": 73,
     "metadata": {},
     "output_type": "execute_result"
    }
   ],
   "source": [
    "#best estimator for the model\n",
    "best_rf = random_search_rf.best_estimator_\n",
    "best_rf"
   ]
  },
  {
   "cell_type": "markdown",
   "id": "8e0743f9",
   "metadata": {},
   "source": [
    "### Comparing Models"
   ]
  },
  {
   "cell_type": "code",
   "execution_count": 74,
   "id": "275de8a2",
   "metadata": {},
   "outputs": [
    {
     "data": {
      "text/html": [
       "<div>\n",
       "<style scoped>\n",
       "    .dataframe tbody tr th:only-of-type {\n",
       "        vertical-align: middle;\n",
       "    }\n",
       "\n",
       "    .dataframe tbody tr th {\n",
       "        vertical-align: top;\n",
       "    }\n",
       "\n",
       "    .dataframe thead th {\n",
       "        text-align: right;\n",
       "    }\n",
       "</style>\n",
       "<table border=\"1\" class=\"dataframe\">\n",
       "  <thead>\n",
       "    <tr style=\"text-align: right;\">\n",
       "      <th></th>\n",
       "      <th>model</th>\n",
       "      <th>f1-score on cross-validation</th>\n",
       "    </tr>\n",
       "  </thead>\n",
       "  <tbody>\n",
       "    <tr>\n",
       "      <th>0</th>\n",
       "      <td>svm</td>\n",
       "      <td>0.832519</td>\n",
       "    </tr>\n",
       "    <tr>\n",
       "      <th>1</th>\n",
       "      <td>random forest</td>\n",
       "      <td>0.852917</td>\n",
       "    </tr>\n",
       "  </tbody>\n",
       "</table>\n",
       "</div>"
      ],
      "text/plain": [
       "           model  f1-score on cross-validation\n",
       "0            svm                      0.832519\n",
       "1  random forest                      0.852917"
      ]
     },
     "execution_count": 74,
     "metadata": {},
     "output_type": "execute_result"
    }
   ],
   "source": [
    "results_cv = pd.DataFrame([\n",
    "    ['svm', svc_cv_f1],\n",
    "    ['random forest', rf_cv_f1]],\n",
    "    columns=['model', 'f1-score on cross-validation']\n",
    ")\n",
    "results_cv"
   ]
  },
  {
   "cell_type": "code",
   "execution_count": 75,
   "id": "427ac596",
   "metadata": {},
   "outputs": [],
   "source": [
    "#from these two models that we set up, we can see that the random\n",
    "#forest did a better job of predicting the values"
   ]
  },
  {
   "cell_type": "code",
   "execution_count": 82,
   "id": "469b83a9",
   "metadata": {},
   "outputs": [
    {
     "data": {
      "text/plain": [
       "array([0, 1, 1, 0, 1, 1, 1, 0, 0, 1, 1, 0, 1, 0, 1, 1, 1, 0, 0, 0, 1, 0,\n",
       "       1, 1, 1, 1, 1, 1, 0, 1, 0, 0, 0, 0, 1, 0, 1, 1, 1, 1, 1, 1, 1, 1,\n",
       "       1, 0, 1, 1, 0, 0, 0, 0, 1, 1, 0, 0, 0, 1, 0, 0, 0])"
      ]
     },
     "execution_count": 82,
     "metadata": {},
     "output_type": "execute_result"
    }
   ],
   "source": [
    "#predicting the values on the test set\n",
    "svc_pred = best_svc.predict(X_test)\n",
    "rf_pred = best_rf.predict(X_test)\n",
    "\n",
    "svc_pred_prob = best_svc.predict_proba(X_test)[:, 1]\n",
    "rf_pred_prob = best_rf.predict_proba(X_test)[:, 1]\n",
    "\n",
    "svc_pred\n",
    "rf_pred"
   ]
  },
  {
   "cell_type": "code",
   "execution_count": 83,
   "id": "455819c0",
   "metadata": {},
   "outputs": [
    {
     "data": {
      "text/plain": [
       "0.8787878787878787"
      ]
     },
     "execution_count": 83,
     "metadata": {},
     "output_type": "execute_result"
    }
   ],
   "source": [
    "#calculate the f1 scores for the predictions\n",
    "f1_svc_test = f1_score(y_test, svc_pred)\n",
    "f1_svc_test\n",
    "\n"
   ]
  },
  {
   "cell_type": "code",
   "execution_count": 84,
   "id": "191d6997",
   "metadata": {},
   "outputs": [
    {
     "data": {
      "text/plain": [
       "0.8787878787878787"
      ]
     },
     "execution_count": 84,
     "metadata": {},
     "output_type": "execute_result"
    }
   ],
   "source": [
    "f1_rf_test = f1_score(y_test, rf_pred)\n",
    "f1_rf_test\n"
   ]
  },
  {
   "cell_type": "code",
   "execution_count": 85,
   "id": "c35f6103",
   "metadata": {},
   "outputs": [
    {
     "data": {
      "text/html": [
       "<div>\n",
       "<style scoped>\n",
       "    .dataframe tbody tr th:only-of-type {\n",
       "        vertical-align: middle;\n",
       "    }\n",
       "\n",
       "    .dataframe tbody tr th {\n",
       "        vertical-align: top;\n",
       "    }\n",
       "\n",
       "    .dataframe thead th {\n",
       "        text-align: right;\n",
       "    }\n",
       "</style>\n",
       "<table border=\"1\" class=\"dataframe\">\n",
       "  <thead>\n",
       "    <tr style=\"text-align: right;\">\n",
       "      <th></th>\n",
       "      <th>model</th>\n",
       "      <th>f1-score on cross-validation</th>\n",
       "      <th>f1-score on the test set</th>\n",
       "    </tr>\n",
       "  </thead>\n",
       "  <tbody>\n",
       "    <tr>\n",
       "      <th>0</th>\n",
       "      <td>svm</td>\n",
       "      <td>0.832519</td>\n",
       "      <td>0.878788</td>\n",
       "    </tr>\n",
       "    <tr>\n",
       "      <th>1</th>\n",
       "      <td>random forest</td>\n",
       "      <td>0.852917</td>\n",
       "      <td>0.878788</td>\n",
       "    </tr>\n",
       "  </tbody>\n",
       "</table>\n",
       "</div>"
      ],
      "text/plain": [
       "           model  f1-score on cross-validation  f1-score on the test set\n",
       "0            svm                      0.832519                  0.878788\n",
       "1  random forest                      0.852917                  0.878788"
      ]
     },
     "execution_count": 85,
     "metadata": {},
     "output_type": "execute_result"
    }
   ],
   "source": [
    "#results of the test\n",
    "results_cv['f1-score on the test set'] = pd.Series([f1_svc_test,\n",
    "                                                    f1_rf_test])\n",
    "results_cv\n"
   ]
  },
  {
   "cell_type": "markdown",
   "id": "0c3524bc",
   "metadata": {},
   "source": [
    "### ROC-Curve to evaluate the performance of our models"
   ]
  },
  {
   "cell_type": "code",
   "execution_count": 86,
   "id": "3dc25c51",
   "metadata": {},
   "outputs": [],
   "source": [
    "fpr_svc, tpr_svc, thresh_svc = roc_curve(y_test, svc_pred_prob)\n",
    "fpr_rf, tpr_rf, thresh_rf = roc_curve(y_test, rf_pred_prob)"
   ]
  },
  {
   "cell_type": "code",
   "execution_count": 87,
   "id": "e71d1ccf",
   "metadata": {},
   "outputs": [
    {
     "data": {
      "image/png": "[encoded data removed]",
      "text/plain": [
       "<Figure size 1008x432 with 1 Axes>"
      ]
     },
     "metadata": {
      "needs_background": "light"
     },
     "output_type": "display_data"
    }
   ],
   "source": [
    "plt.figure(figsize=(14,6))\n",
    "sns.lineplot(x=fpr_svc, y=tpr_svc, ci=None, label='svc')\n",
    "sns.lineplot(x=fpr_rf, y=tpr_rf, ci=None, label='random forest')\n",
    "plt.xlabel('false positive rate')\n",
    "plt.ylabel('true positive rate')\n",
    "plt.title('ROC curves on the test set', fontsize=15)\n",
    "plt.legend()\n",
    "plt.show()"
   ]
  },
  {
   "cell_type": "code",
   "execution_count": 91,
   "id": "6ffb1b39",
   "metadata": {},
   "outputs": [
    {
     "data": {
      "text/plain": [
       "0.9245689655172413"
      ]
     },
     "execution_count": 91,
     "metadata": {},
     "output_type": "execute_result"
    }
   ],
   "source": [
    "#calcualate the areas under the curve\n",
    "roc_auc_svc_test = roc_auc_score(y_test, svc_pred_prob)\n",
    "roc_auc_svc_test\n"
   ]
  },
  {
   "cell_type": "code",
   "execution_count": 92,
   "id": "1fc4f610",
   "metadata": {},
   "outputs": [
    {
     "data": {
      "text/plain": [
       "0.9105603448275862"
      ]
     },
     "execution_count": 92,
     "metadata": {},
     "output_type": "execute_result"
    }
   ],
   "source": [
    "roc_auc_rf_test = roc_auc_score(y_test, rf_pred_prob)\n",
    "roc_auc_rf_test\n"
   ]
  },
  {
   "cell_type": "code",
   "execution_count": 94,
   "id": "8386f3c1",
   "metadata": {},
   "outputs": [
    {
     "data": {
      "text/html": [
       "<div>\n",
       "<style scoped>\n",
       "    .dataframe tbody tr th:only-of-type {\n",
       "        vertical-align: middle;\n",
       "    }\n",
       "\n",
       "    .dataframe tbody tr th {\n",
       "        vertical-align: top;\n",
       "    }\n",
       "\n",
       "    .dataframe thead th {\n",
       "        text-align: right;\n",
       "    }\n",
       "</style>\n",
       "<table border=\"1\" class=\"dataframe\">\n",
       "  <thead>\n",
       "    <tr style=\"text-align: right;\">\n",
       "      <th></th>\n",
       "      <th>model</th>\n",
       "      <th>f1-score on cross-validation</th>\n",
       "      <th>f1-score on the test set</th>\n",
       "      <th>roc_auc on the test set</th>\n",
       "    </tr>\n",
       "  </thead>\n",
       "  <tbody>\n",
       "    <tr>\n",
       "      <th>0</th>\n",
       "      <td>svm</td>\n",
       "      <td>0.832519</td>\n",
       "      <td>0.878788</td>\n",
       "      <td>0.924569</td>\n",
       "    </tr>\n",
       "    <tr>\n",
       "      <th>1</th>\n",
       "      <td>random forest</td>\n",
       "      <td>0.852917</td>\n",
       "      <td>0.878788</td>\n",
       "      <td>0.910560</td>\n",
       "    </tr>\n",
       "  </tbody>\n",
       "</table>\n",
       "</div>"
      ],
      "text/plain": [
       "           model  f1-score on cross-validation  f1-score on the test set  \\\n",
       "0            svm                      0.832519                  0.878788   \n",
       "1  random forest                      0.852917                  0.878788   \n",
       "\n",
       "   roc_auc on the test set  \n",
       "0                 0.924569  \n",
       "1                 0.910560  "
      ]
     },
     "execution_count": 94,
     "metadata": {},
     "output_type": "execute_result"
    }
   ],
   "source": [
    "results_cv['roc_auc on the test set'] = pd.Series([roc_auc_svc_test, \n",
    "                                                   roc_auc_rf_test])\n",
    "\n",
    "results_cv\n",
    "#the new results panda series to show our results of the models"
   ]
  },
  {
   "cell_type": "markdown",
   "id": "67329da0",
   "metadata": {},
   "source": [
    "## FINAL RESULTS: we see that the SVM and random forest have about the same accuracy"
   ]
  },
  {
   "cell_type": "code",
   "execution_count": null,
   "id": "d1f4975d",
   "metadata": {},
   "outputs": [],
   "source": []
  }
 ],
 "metadata": {
  "kernelspec": {
   "display_name": "Python 3",
   "language": "python",
   "name": "python3"
  },
  "language_info": {
   "codemirror_mode": {
    "name": "ipython",
    "version": 3
   },
   "file_extension": ".py",
   "mimetype": "text/x-python",
   "name": "python",
   "nbconvert_exporter": "python",
   "pygments_lexer": "ipython3",
   "version": "3.8.8"
  }
 },
 "nbformat": 4,
 "nbformat_minor": 5
}
